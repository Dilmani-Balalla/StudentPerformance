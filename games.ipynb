{
 "cells": [
  {
   "cell_type": "code",
   "execution_count": 238,
   "id": "ed664851-f37d-449b-a698-3be64b3a7768",
   "metadata": {},
   "outputs": [
    {
     "name": "stdout",
     "output_type": "stream",
     "text": [
      "Requirement already satisfied: numpy in c:\\users\\hemal\\desktop\\videogames\\env\\lib\\site-packages (2.2.4)\n",
      "Requirement already satisfied: pandas in c:\\users\\hemal\\desktop\\videogames\\env\\lib\\site-packages (2.2.3)\n",
      "Requirement already satisfied: numpy>=1.26.0 in c:\\users\\hemal\\desktop\\videogames\\env\\lib\\site-packages (from pandas) (2.2.4)\n",
      "Requirement already satisfied: python-dateutil>=2.8.2 in c:\\users\\hemal\\desktop\\videogames\\env\\lib\\site-packages (from pandas) (2.9.0.post0)\n",
      "Requirement already satisfied: pytz>=2020.1 in c:\\users\\hemal\\desktop\\videogames\\env\\lib\\site-packages (from pandas) (2025.1)\n",
      "Requirement already satisfied: tzdata>=2022.7 in c:\\users\\hemal\\desktop\\videogames\\env\\lib\\site-packages (from pandas) (2025.1)\n",
      "Requirement already satisfied: six>=1.5 in c:\\users\\hemal\\desktop\\videogames\\env\\lib\\site-packages (from python-dateutil>=2.8.2->pandas) (1.17.0)\n",
      "Requirement already satisfied: scikit-learn in c:\\users\\hemal\\desktop\\videogames\\env\\lib\\site-packages (1.6.1)\n",
      "Requirement already satisfied: numpy>=1.19.5 in c:\\users\\hemal\\desktop\\videogames\\env\\lib\\site-packages (from scikit-learn) (2.2.4)\n",
      "Requirement already satisfied: scipy>=1.6.0 in c:\\users\\hemal\\desktop\\videogames\\env\\lib\\site-packages (from scikit-learn) (1.15.2)\n",
      "Requirement already satisfied: joblib>=1.2.0 in c:\\users\\hemal\\desktop\\videogames\\env\\lib\\site-packages (from scikit-learn) (1.4.2)\n",
      "Requirement already satisfied: threadpoolctl>=3.1.0 in c:\\users\\hemal\\desktop\\videogames\\env\\lib\\site-packages (from scikit-learn) (3.6.0)\n"
     ]
    }
   ],
   "source": [
    "!pip install numpy\n",
    "!pip install pandas\n",
    "!pip install scikit-learn"
   ]
  },
  {
   "cell_type": "code",
   "execution_count": 239,
   "id": "0958765a-9add-4dfa-acc8-20456cef48fa",
   "metadata": {},
   "outputs": [],
   "source": [
    "import numpy as np\n",
    "import pandas as pd"
   ]
  },
  {
   "cell_type": "code",
   "execution_count": null,
   "id": "22a1b508-70f1-4300-b9d0-48923fef6e7f",
   "metadata": {},
   "outputs": [],
   "source": [
    "DATA LOADING"
   ]
  },
  {
   "cell_type": "code",
   "execution_count": 240,
   "id": "39aeb2cd-e740-40c2-8403-eedcc34792c3",
   "metadata": {},
   "outputs": [],
   "source": [
    "url = \"https://raw.githubusercontent.com/Dilmani-Balalla/VideoGames_sales/refs/heads/main/resources/video_games_sales%20-%20video_games_sales.csv.csv\"\n",
    "data = pd.read_csv(url, encoding='latin-1')"
   ]
  },
  {
   "cell_type": "code",
   "execution_count": 241,
   "id": "33faf963-cb1f-4554-a1be-fd07b69c4565",
   "metadata": {},
   "outputs": [
    {
     "data": {
      "text/plain": [
       "(1000, 11)"
      ]
     },
     "execution_count": 241,
     "metadata": {},
     "output_type": "execute_result"
    }
   ],
   "source": [
    "data.shape"
   ]
  },
  {
   "cell_type": "code",
   "execution_count": 48,
   "id": "0a56164c-6798-482d-aec6-ef24f506de90",
   "metadata": {},
   "outputs": [
    {
     "ename": "SyntaxError",
     "evalue": "invalid syntax (2286459319.py, line 1)",
     "output_type": "error",
     "traceback": [
      "  \u001b[36mCell\u001b[39m\u001b[36m \u001b[39m\u001b[32mIn[48]\u001b[39m\u001b[32m, line 1\u001b[39m\n\u001b[31m    \u001b[39m\u001b[31mDATA CLEANING\u001b[39m\n         ^\n\u001b[31mSyntaxError\u001b[39m\u001b[31m:\u001b[39m invalid syntax\n"
     ]
    }
   ],
   "source": [
    "DATA CLEANING"
   ]
  },
  {
   "cell_type": "code",
   "execution_count": 242,
   "id": "f265fc3d-d29d-46d2-a787-ab0d7f794def",
   "metadata": {},
   "outputs": [
    {
     "data": {
      "text/plain": [
       "rank             0\n",
       "name             0\n",
       "platform         0\n",
       "year            10\n",
       "genre            0\n",
       "publisher        1\n",
       "na_sales         0\n",
       "eu_sales         0\n",
       "jp_sales         0\n",
       "other_sales      0\n",
       "global_sales     0\n",
       "dtype: int64"
      ]
     },
     "execution_count": 242,
     "metadata": {},
     "output_type": "execute_result"
    }
   ],
   "source": [
    "data.isnull().sum()"
   ]
  },
  {
   "cell_type": "code",
   "execution_count": 243,
   "id": "96347c29-d82e-4e01-9103-562950c10ad5",
   "metadata": {},
   "outputs": [],
   "source": [
    "if data['year'].isnull().sum() > 0:  # Check if there are missing values\n",
    "    year_mode = data['year'].mode()[0]  # Get the most common year\n",
    "data['year'] = data['year'].fillna(year_mode)\n"
   ]
  },
  {
   "cell_type": "code",
   "execution_count": 244,
   "id": "193f0e86-e3a3-4bf2-b6ca-abadc2c9de32",
   "metadata": {},
   "outputs": [],
   "source": [
    "if data['publisher'].isnull().sum() > 0:  # Check if there are missing values\n",
    "    publisher_mode = data['publisher'].mode()[0]  # Get the most common publisher\n",
    "    data['publisher'] = data['publisher'].fillna( publisher_mode)"
   ]
  },
  {
   "cell_type": "code",
   "execution_count": 245,
   "id": "abea17b0-ce85-4c30-99d0-127188ecff56",
   "metadata": {},
   "outputs": [],
   "source": [
    "data = data.drop(columns=['rank', 'name'])\n"
   ]
  },
  {
   "cell_type": "code",
   "execution_count": 246,
   "id": "c1259706-e5df-414b-9a0f-ad080b0d4d78",
   "metadata": {},
   "outputs": [
    {
     "data": {
      "text/plain": [
       "platform        0\n",
       "year            0\n",
       "genre           0\n",
       "publisher       0\n",
       "na_sales        0\n",
       "eu_sales        0\n",
       "jp_sales        0\n",
       "other_sales     0\n",
       "global_sales    0\n",
       "dtype: int64"
      ]
     },
     "execution_count": 246,
     "metadata": {},
     "output_type": "execute_result"
    }
   ],
   "source": [
    "data.isnull().sum()"
   ]
  },
  {
   "cell_type": "code",
   "execution_count": 248,
   "id": "e603855f-69dd-473a-b598-5b4f529bcebc",
   "metadata": {},
   "outputs": [],
   "source": [
    "data['year'] = data['year'].astype('int32')\n"
   ]
  },
  {
   "cell_type": "code",
   "execution_count": 249,
   "id": "4029f0c4-9f51-472a-84e2-e6772700744c",
   "metadata": {},
   "outputs": [
    {
     "name": "stdout",
     "output_type": "stream",
     "text": [
      "<class 'pandas.core.frame.DataFrame'>\n",
      "RangeIndex: 1000 entries, 0 to 999\n",
      "Data columns (total 9 columns):\n",
      " #   Column        Non-Null Count  Dtype  \n",
      "---  ------        --------------  -----  \n",
      " 0   platform      1000 non-null   object \n",
      " 1   year          1000 non-null   int32  \n",
      " 2   genre         1000 non-null   object \n",
      " 3   publisher     1000 non-null   object \n",
      " 4   na_sales      1000 non-null   float64\n",
      " 5   eu_sales      1000 non-null   float64\n",
      " 6   jp_sales      1000 non-null   float64\n",
      " 7   other_sales   1000 non-null   float64\n",
      " 8   global_sales  1000 non-null   float64\n",
      "dtypes: float64(5), int32(1), object(3)\n",
      "memory usage: 66.5+ KB\n"
     ]
    }
   ],
   "source": [
    "data.info()"
   ]
  },
  {
   "cell_type": "code",
   "execution_count": 250,
   "id": "038c255c-be53-4683-8279-d6495185fd36",
   "metadata": {},
   "outputs": [
    {
     "data": {
      "text/html": [
       "<div>\n",
       "<style scoped>\n",
       "    .dataframe tbody tr th:only-of-type {\n",
       "        vertical-align: middle;\n",
       "    }\n",
       "\n",
       "    .dataframe tbody tr th {\n",
       "        vertical-align: top;\n",
       "    }\n",
       "\n",
       "    .dataframe thead th {\n",
       "        text-align: right;\n",
       "    }\n",
       "</style>\n",
       "<table border=\"1\" class=\"dataframe\">\n",
       "  <thead>\n",
       "    <tr style=\"text-align: right;\">\n",
       "      <th></th>\n",
       "      <th>platform</th>\n",
       "      <th>year</th>\n",
       "      <th>genre</th>\n",
       "      <th>publisher</th>\n",
       "      <th>na_sales</th>\n",
       "      <th>eu_sales</th>\n",
       "      <th>jp_sales</th>\n",
       "      <th>other_sales</th>\n",
       "      <th>global_sales</th>\n",
       "    </tr>\n",
       "  </thead>\n",
       "  <tbody>\n",
       "    <tr>\n",
       "      <th>0</th>\n",
       "      <td>Wii</td>\n",
       "      <td>2006</td>\n",
       "      <td>Sports</td>\n",
       "      <td>Nintendo</td>\n",
       "      <td>41.49</td>\n",
       "      <td>29.02</td>\n",
       "      <td>3.77</td>\n",
       "      <td>8.46</td>\n",
       "      <td>82.74</td>\n",
       "    </tr>\n",
       "    <tr>\n",
       "      <th>1</th>\n",
       "      <td>NES</td>\n",
       "      <td>1985</td>\n",
       "      <td>Platform</td>\n",
       "      <td>Nintendo</td>\n",
       "      <td>29.08</td>\n",
       "      <td>3.58</td>\n",
       "      <td>6.81</td>\n",
       "      <td>0.77</td>\n",
       "      <td>40.24</td>\n",
       "    </tr>\n",
       "  </tbody>\n",
       "</table>\n",
       "</div>"
      ],
      "text/plain": [
       "  platform  year     genre publisher  na_sales  eu_sales  jp_sales  \\\n",
       "0      Wii  2006    Sports  Nintendo     41.49     29.02      3.77   \n",
       "1      NES  1985  Platform  Nintendo     29.08      3.58      6.81   \n",
       "\n",
       "   other_sales  global_sales  \n",
       "0         8.46         82.74  \n",
       "1         0.77         40.24  "
      ]
     },
     "execution_count": 250,
     "metadata": {},
     "output_type": "execute_result"
    }
   ],
   "source": [
    "data.head(2)\n"
   ]
  },
  {
   "cell_type": "code",
   "execution_count": 252,
   "id": "37929f8a-6b1e-40ca-ba81-1462d77e3718",
   "metadata": {},
   "outputs": [
    {
     "data": {
      "text/plain": [
       "genre\n",
       "Action          205\n",
       "Sports          133\n",
       "Shooter         129\n",
       "Role-Playing    111\n",
       "Platform        103\n",
       "Misc             91\n",
       "Racing           77\n",
       "Fighting         57\n",
       "Simulation       40\n",
       "Puzzle           23\n",
       "Adventure        19\n",
       "Strategy         12\n",
       "Name: count, dtype: int64"
      ]
     },
     "execution_count": 252,
     "metadata": {},
     "output_type": "execute_result"
    }
   ],
   "source": [
    "data['genre'].value_counts()"
   ]
  },
  {
   "cell_type": "code",
   "execution_count": 253,
   "id": "1970813d-e9d4-47cf-ae58-83344b0b1606",
   "metadata": {},
   "outputs": [
    {
     "data": {
      "text/plain": [
       "platform\n",
       "PS2     164\n",
       "X360    131\n",
       "PS3     120\n",
       "PS       82\n",
       "Wii      78\n",
       "DS       67\n",
       "PS4      45\n",
       "NES      34\n",
       "PC       34\n",
       "GB       32\n",
       "N64      29\n",
       "GBA      29\n",
       "3DS      29\n",
       "SNES     26\n",
       "XOne     21\n",
       "PSP      21\n",
       "GC       15\n",
       "XB       14\n",
       "WiiU     10\n",
       "2600      8\n",
       "GEN       7\n",
       "DC        2\n",
       "PSV       1\n",
       "SAT       1\n",
       "Name: count, dtype: int64"
      ]
     },
     "execution_count": 253,
     "metadata": {},
     "output_type": "execute_result"
    }
   ],
   "source": [
    "data['platform'].value_counts()\n"
   ]
  },
  {
   "cell_type": "code",
   "execution_count": 254,
   "id": "d08903e1-8d48-4368-94bf-b603beebd867",
   "metadata": {},
   "outputs": [],
   "source": [
    "# Keep the top 10 most common platforms\n",
    "top_platforms = data['platform'].value_counts().nlargest(3).index.tolist()\n",
    "\n",
    "def set_platform(platform):\n",
    "    if platform in top_platforms:\n",
    "        return platform\n",
    "    else:\n",
    "        return 'Other'\n",
    "\n",
    "# Apply it to a new column\n",
    "data['platform_processed'] = data['platform'].apply(set_platform)\n"
   ]
  },
  {
   "cell_type": "code",
   "execution_count": 255,
   "id": "18654f9e-59f2-4e2e-b8c6-b516c66412e5",
   "metadata": {},
   "outputs": [
    {
     "data": {
      "text/plain": [
       "platform_processed\n",
       "Other    585\n",
       "PS2      164\n",
       "X360     131\n",
       "PS3      120\n",
       "Name: count, dtype: int64"
      ]
     },
     "execution_count": 255,
     "metadata": {},
     "output_type": "execute_result"
    }
   ],
   "source": [
    "data['platform_processed'].value_counts()"
   ]
  },
  {
   "cell_type": "code",
   "execution_count": 256,
   "id": "8588c107-b2d5-4cf7-82f2-1eeb601d7295",
   "metadata": {},
   "outputs": [
    {
     "data": {
      "text/plain": [
       "genre\n",
       "Action          205\n",
       "Sports          133\n",
       "Shooter         129\n",
       "Role-Playing    111\n",
       "Platform        103\n",
       "Misc             91\n",
       "Racing           77\n",
       "Fighting         57\n",
       "Simulation       40\n",
       "Puzzle           23\n",
       "Adventure        19\n",
       "Strategy         12\n",
       "Name: count, dtype: int64"
      ]
     },
     "execution_count": 256,
     "metadata": {},
     "output_type": "execute_result"
    }
   ],
   "source": [
    "data['genre'].value_counts()"
   ]
  },
  {
   "cell_type": "code",
   "execution_count": 257,
   "id": "7183fd6b-7cee-4c9f-be3a-3f54b2a53ce2",
   "metadata": {},
   "outputs": [],
   "source": [
    "# Keep top 3 genres\n",
    "top_genres = data['genre'].value_counts().nlargest(3).index.tolist()\n",
    "\n",
    "def set_genre(genre):\n",
    "    if genre in top_genres:\n",
    "        return genre\n",
    "    else:\n",
    "        return 'Other'\n",
    "\n",
    "# Apply it\n",
    "data['genre_processed'] = data['genre'].apply(set_genre)\n"
   ]
  },
  {
   "cell_type": "code",
   "execution_count": 258,
   "id": "2abd9c32-fab7-46d1-9a9c-921a90dfa14b",
   "metadata": {},
   "outputs": [
    {
     "data": {
      "text/plain": [
       "genre_processed\n",
       "Other      533\n",
       "Action     205\n",
       "Sports     133\n",
       "Shooter    129\n",
       "Name: count, dtype: int64"
      ]
     },
     "execution_count": 258,
     "metadata": {},
     "output_type": "execute_result"
    }
   ],
   "source": [
    "data['genre_processed'].value_counts()"
   ]
  },
  {
   "cell_type": "code",
   "execution_count": 259,
   "id": "b8eec52c-5b0d-445c-90a0-24ac9073f563",
   "metadata": {},
   "outputs": [],
   "source": [
    "# Keep top 3 publishers\n",
    "top_publishers = data['publisher'].value_counts().nlargest(3).index.tolist()\n",
    "\n",
    "def set_publisher(publisher):\n",
    "    if publisher in top_publishers:\n",
    "        return publisher\n",
    "    else:\n",
    "        return 'Other'\n",
    "\n",
    "# Apply the function\n",
    "data['publisher_processed'] = data['publisher'].apply(set_publisher)\n"
   ]
  },
  {
   "cell_type": "code",
   "execution_count": 260,
   "id": "00af3d46-c44e-4830-b981-2fbef7f39f8f",
   "metadata": {},
   "outputs": [
    {
     "data": {
      "text/plain": [
       "publisher_processed\n",
       "Other                          533\n",
       "Nintendo                       230\n",
       "Electronic Arts                149\n",
       "Sony Computer Entertainment     88\n",
       "Name: count, dtype: int64"
      ]
     },
     "execution_count": 260,
     "metadata": {},
     "output_type": "execute_result"
    }
   ],
   "source": [
    "data['publisher_processed'].value_counts()"
   ]
  },
  {
   "cell_type": "code",
   "execution_count": 261,
   "id": "b4b53257-ffc5-442d-97a2-835651e08b43",
   "metadata": {},
   "outputs": [
    {
     "data": {
      "text/html": [
       "<div>\n",
       "<style scoped>\n",
       "    .dataframe tbody tr th:only-of-type {\n",
       "        vertical-align: middle;\n",
       "    }\n",
       "\n",
       "    .dataframe tbody tr th {\n",
       "        vertical-align: top;\n",
       "    }\n",
       "\n",
       "    .dataframe thead th {\n",
       "        text-align: right;\n",
       "    }\n",
       "</style>\n",
       "<table border=\"1\" class=\"dataframe\">\n",
       "  <thead>\n",
       "    <tr style=\"text-align: right;\">\n",
       "      <th></th>\n",
       "      <th>platform</th>\n",
       "      <th>year</th>\n",
       "      <th>genre</th>\n",
       "      <th>publisher</th>\n",
       "      <th>na_sales</th>\n",
       "      <th>eu_sales</th>\n",
       "      <th>jp_sales</th>\n",
       "      <th>other_sales</th>\n",
       "      <th>global_sales</th>\n",
       "      <th>platform_processed</th>\n",
       "      <th>genre_processed</th>\n",
       "      <th>publisher_processed</th>\n",
       "    </tr>\n",
       "  </thead>\n",
       "  <tbody>\n",
       "    <tr>\n",
       "      <th>0</th>\n",
       "      <td>Wii</td>\n",
       "      <td>2006</td>\n",
       "      <td>Sports</td>\n",
       "      <td>Nintendo</td>\n",
       "      <td>41.49</td>\n",
       "      <td>29.02</td>\n",
       "      <td>3.77</td>\n",
       "      <td>8.46</td>\n",
       "      <td>82.74</td>\n",
       "      <td>Other</td>\n",
       "      <td>Sports</td>\n",
       "      <td>Nintendo</td>\n",
       "    </tr>\n",
       "    <tr>\n",
       "      <th>1</th>\n",
       "      <td>NES</td>\n",
       "      <td>1985</td>\n",
       "      <td>Platform</td>\n",
       "      <td>Nintendo</td>\n",
       "      <td>29.08</td>\n",
       "      <td>3.58</td>\n",
       "      <td>6.81</td>\n",
       "      <td>0.77</td>\n",
       "      <td>40.24</td>\n",
       "      <td>Other</td>\n",
       "      <td>Other</td>\n",
       "      <td>Nintendo</td>\n",
       "    </tr>\n",
       "  </tbody>\n",
       "</table>\n",
       "</div>"
      ],
      "text/plain": [
       "  platform  year     genre publisher  na_sales  eu_sales  jp_sales  \\\n",
       "0      Wii  2006    Sports  Nintendo     41.49     29.02      3.77   \n",
       "1      NES  1985  Platform  Nintendo     29.08      3.58      6.81   \n",
       "\n",
       "   other_sales  global_sales platform_processed genre_processed  \\\n",
       "0         8.46         82.74              Other          Sports   \n",
       "1         0.77         40.24              Other           Other   \n",
       "\n",
       "  publisher_processed  \n",
       "0            Nintendo  \n",
       "1            Nintendo  "
      ]
     },
     "execution_count": 261,
     "metadata": {},
     "output_type": "execute_result"
    }
   ],
   "source": [
    "data.head(2)\n"
   ]
  },
  {
   "cell_type": "code",
   "execution_count": 262,
   "id": "ecc46475-c381-4fe1-9258-a96ffad5dd7a",
   "metadata": {},
   "outputs": [],
   "source": [
    "data = data.drop(columns=['platform', 'genre', 'publisher'])\n"
   ]
  },
  {
   "cell_type": "code",
   "execution_count": 263,
   "id": "accb9b3d-0f37-492d-9667-b09569e30abc",
   "metadata": {},
   "outputs": [
    {
     "data": {
      "text/html": [
       "<div>\n",
       "<style scoped>\n",
       "    .dataframe tbody tr th:only-of-type {\n",
       "        vertical-align: middle;\n",
       "    }\n",
       "\n",
       "    .dataframe tbody tr th {\n",
       "        vertical-align: top;\n",
       "    }\n",
       "\n",
       "    .dataframe thead th {\n",
       "        text-align: right;\n",
       "    }\n",
       "</style>\n",
       "<table border=\"1\" class=\"dataframe\">\n",
       "  <thead>\n",
       "    <tr style=\"text-align: right;\">\n",
       "      <th></th>\n",
       "      <th>year</th>\n",
       "      <th>na_sales</th>\n",
       "      <th>eu_sales</th>\n",
       "      <th>jp_sales</th>\n",
       "      <th>other_sales</th>\n",
       "      <th>global_sales</th>\n",
       "      <th>platform_processed</th>\n",
       "      <th>genre_processed</th>\n",
       "      <th>publisher_processed</th>\n",
       "    </tr>\n",
       "  </thead>\n",
       "  <tbody>\n",
       "    <tr>\n",
       "      <th>0</th>\n",
       "      <td>2006</td>\n",
       "      <td>41.49</td>\n",
       "      <td>29.02</td>\n",
       "      <td>3.77</td>\n",
       "      <td>8.46</td>\n",
       "      <td>82.74</td>\n",
       "      <td>Other</td>\n",
       "      <td>Sports</td>\n",
       "      <td>Nintendo</td>\n",
       "    </tr>\n",
       "    <tr>\n",
       "      <th>1</th>\n",
       "      <td>1985</td>\n",
       "      <td>29.08</td>\n",
       "      <td>3.58</td>\n",
       "      <td>6.81</td>\n",
       "      <td>0.77</td>\n",
       "      <td>40.24</td>\n",
       "      <td>Other</td>\n",
       "      <td>Other</td>\n",
       "      <td>Nintendo</td>\n",
       "    </tr>\n",
       "    <tr>\n",
       "      <th>2</th>\n",
       "      <td>2008</td>\n",
       "      <td>15.85</td>\n",
       "      <td>12.88</td>\n",
       "      <td>3.79</td>\n",
       "      <td>3.31</td>\n",
       "      <td>35.82</td>\n",
       "      <td>Other</td>\n",
       "      <td>Other</td>\n",
       "      <td>Nintendo</td>\n",
       "    </tr>\n",
       "    <tr>\n",
       "      <th>3</th>\n",
       "      <td>2009</td>\n",
       "      <td>15.75</td>\n",
       "      <td>11.01</td>\n",
       "      <td>3.28</td>\n",
       "      <td>2.96</td>\n",
       "      <td>33.00</td>\n",
       "      <td>Other</td>\n",
       "      <td>Sports</td>\n",
       "      <td>Nintendo</td>\n",
       "    </tr>\n",
       "    <tr>\n",
       "      <th>4</th>\n",
       "      <td>1996</td>\n",
       "      <td>11.27</td>\n",
       "      <td>8.89</td>\n",
       "      <td>10.22</td>\n",
       "      <td>1.00</td>\n",
       "      <td>31.37</td>\n",
       "      <td>Other</td>\n",
       "      <td>Other</td>\n",
       "      <td>Nintendo</td>\n",
       "    </tr>\n",
       "  </tbody>\n",
       "</table>\n",
       "</div>"
      ],
      "text/plain": [
       "   year  na_sales  eu_sales  jp_sales  other_sales  global_sales  \\\n",
       "0  2006     41.49     29.02      3.77         8.46         82.74   \n",
       "1  1985     29.08      3.58      6.81         0.77         40.24   \n",
       "2  2008     15.85     12.88      3.79         3.31         35.82   \n",
       "3  2009     15.75     11.01      3.28         2.96         33.00   \n",
       "4  1996     11.27      8.89     10.22         1.00         31.37   \n",
       "\n",
       "  platform_processed genre_processed publisher_processed  \n",
       "0              Other          Sports            Nintendo  \n",
       "1              Other           Other            Nintendo  \n",
       "2              Other           Other            Nintendo  \n",
       "3              Other          Sports            Nintendo  \n",
       "4              Other           Other            Nintendo  "
      ]
     },
     "execution_count": 263,
     "metadata": {},
     "output_type": "execute_result"
    }
   ],
   "source": [
    "data.head()\n"
   ]
  },
  {
   "cell_type": "code",
   "execution_count": 27,
   "id": "2ff786bf-8ae4-4189-89a2-4d4f2d70c5be",
   "metadata": {},
   "outputs": [
    {
     "ename": "SyntaxError",
     "evalue": "invalid syntax (625315373.py, line 1)",
     "output_type": "error",
     "traceback": [
      "  \u001b[36mCell\u001b[39m\u001b[36m \u001b[39m\u001b[32mIn[27]\u001b[39m\u001b[32m, line 1\u001b[39m\n\u001b[31m    \u001b[39m\u001b[31mONE HOT ENCODING\u001b[39m\n        ^\n\u001b[31mSyntaxError\u001b[39m\u001b[31m:\u001b[39m invalid syntax\n"
     ]
    }
   ],
   "source": [
    "ONE HOT ENCODING\n"
   ]
  },
  {
   "cell_type": "code",
   "execution_count": 264,
   "id": "f05581df-615b-4c62-a97c-e8948002d803",
   "metadata": {},
   "outputs": [],
   "source": [
    "data = pd.get_dummies(data)\n"
   ]
  },
  {
   "cell_type": "code",
   "execution_count": 265,
   "id": "f23092e9-903d-4a7b-a5d4-b092fd0d6cab",
   "metadata": {},
   "outputs": [
    {
     "data": {
      "text/plain": [
       "(1000, 18)"
      ]
     },
     "execution_count": 265,
     "metadata": {},
     "output_type": "execute_result"
    }
   ],
   "source": [
    "data.shape\n"
   ]
  },
  {
   "cell_type": "code",
   "execution_count": 266,
   "id": "af0f4cb1-522b-440a-935b-f6f8730829dc",
   "metadata": {},
   "outputs": [
    {
     "data": {
      "text/html": [
       "<div>\n",
       "<style scoped>\n",
       "    .dataframe tbody tr th:only-of-type {\n",
       "        vertical-align: middle;\n",
       "    }\n",
       "\n",
       "    .dataframe tbody tr th {\n",
       "        vertical-align: top;\n",
       "    }\n",
       "\n",
       "    .dataframe thead th {\n",
       "        text-align: right;\n",
       "    }\n",
       "</style>\n",
       "<table border=\"1\" class=\"dataframe\">\n",
       "  <thead>\n",
       "    <tr style=\"text-align: right;\">\n",
       "      <th></th>\n",
       "      <th>year</th>\n",
       "      <th>na_sales</th>\n",
       "      <th>eu_sales</th>\n",
       "      <th>jp_sales</th>\n",
       "      <th>other_sales</th>\n",
       "      <th>global_sales</th>\n",
       "      <th>platform_processed_Other</th>\n",
       "      <th>platform_processed_PS2</th>\n",
       "      <th>platform_processed_PS3</th>\n",
       "      <th>platform_processed_X360</th>\n",
       "      <th>genre_processed_Action</th>\n",
       "      <th>genre_processed_Other</th>\n",
       "      <th>genre_processed_Shooter</th>\n",
       "      <th>genre_processed_Sports</th>\n",
       "      <th>publisher_processed_Electronic Arts</th>\n",
       "      <th>publisher_processed_Nintendo</th>\n",
       "      <th>publisher_processed_Other</th>\n",
       "      <th>publisher_processed_Sony Computer Entertainment</th>\n",
       "    </tr>\n",
       "  </thead>\n",
       "  <tbody>\n",
       "    <tr>\n",
       "      <th>0</th>\n",
       "      <td>2006</td>\n",
       "      <td>41.49</td>\n",
       "      <td>29.02</td>\n",
       "      <td>3.77</td>\n",
       "      <td>8.46</td>\n",
       "      <td>82.74</td>\n",
       "      <td>True</td>\n",
       "      <td>False</td>\n",
       "      <td>False</td>\n",
       "      <td>False</td>\n",
       "      <td>False</td>\n",
       "      <td>False</td>\n",
       "      <td>False</td>\n",
       "      <td>True</td>\n",
       "      <td>False</td>\n",
       "      <td>True</td>\n",
       "      <td>False</td>\n",
       "      <td>False</td>\n",
       "    </tr>\n",
       "    <tr>\n",
       "      <th>1</th>\n",
       "      <td>1985</td>\n",
       "      <td>29.08</td>\n",
       "      <td>3.58</td>\n",
       "      <td>6.81</td>\n",
       "      <td>0.77</td>\n",
       "      <td>40.24</td>\n",
       "      <td>True</td>\n",
       "      <td>False</td>\n",
       "      <td>False</td>\n",
       "      <td>False</td>\n",
       "      <td>False</td>\n",
       "      <td>True</td>\n",
       "      <td>False</td>\n",
       "      <td>False</td>\n",
       "      <td>False</td>\n",
       "      <td>True</td>\n",
       "      <td>False</td>\n",
       "      <td>False</td>\n",
       "    </tr>\n",
       "  </tbody>\n",
       "</table>\n",
       "</div>"
      ],
      "text/plain": [
       "   year  na_sales  eu_sales  jp_sales  other_sales  global_sales  \\\n",
       "0  2006     41.49     29.02      3.77         8.46         82.74   \n",
       "1  1985     29.08      3.58      6.81         0.77         40.24   \n",
       "\n",
       "   platform_processed_Other  platform_processed_PS2  platform_processed_PS3  \\\n",
       "0                      True                   False                   False   \n",
       "1                      True                   False                   False   \n",
       "\n",
       "   platform_processed_X360  genre_processed_Action  genre_processed_Other  \\\n",
       "0                    False                   False                  False   \n",
       "1                    False                   False                   True   \n",
       "\n",
       "   genre_processed_Shooter  genre_processed_Sports  \\\n",
       "0                    False                    True   \n",
       "1                    False                   False   \n",
       "\n",
       "   publisher_processed_Electronic Arts  publisher_processed_Nintendo  \\\n",
       "0                                False                          True   \n",
       "1                                False                          True   \n",
       "\n",
       "   publisher_processed_Other  publisher_processed_Sony Computer Entertainment  \n",
       "0                      False                                            False  \n",
       "1                      False                                            False  "
      ]
     },
     "execution_count": 266,
     "metadata": {},
     "output_type": "execute_result"
    }
   ],
   "source": [
    "data.head(2)\n"
   ]
  },
  {
   "cell_type": "code",
   "execution_count": null,
   "id": "497e3e43-1f8b-40a5-a5f4-55e318b0d983",
   "metadata": {},
   "outputs": [],
   "source": [
    "VISUALIZATIONS AND ANALYSIS"
   ]
  },
  {
   "cell_type": "code",
   "execution_count": 267,
   "id": "61012d66-40cd-49bc-825a-454d5b1b9398",
   "metadata": {},
   "outputs": [],
   "source": [
    "correlation_matrix = data.corr() "
   ]
  },
  {
   "cell_type": "code",
   "execution_count": 268,
   "id": "94de637f-0f39-4c9e-99c2-f8f31221fd3d",
   "metadata": {},
   "outputs": [
    {
     "name": "stdout",
     "output_type": "stream",
     "text": [
      "                                                     year  na_sales  eu_sales  \\\n",
      "year                                             1.000000 -0.088515  0.145658   \n",
      "na_sales                                        -0.088515  1.000000  0.679323   \n",
      "eu_sales                                         0.145658  0.679323  1.000000   \n",
      "jp_sales                                        -0.232140  0.370042  0.347726   \n",
      "other_sales                                      0.197682  0.510497  0.633478   \n",
      "global_sales                                    -0.022595  0.920483  0.865994   \n",
      "platform_processed_Other                        -0.297992  0.045990  0.027117   \n",
      "platform_processed_PS2                          -0.084764 -0.071618 -0.073725   \n",
      "platform_processed_PS3                           0.275643 -0.066129  0.063978   \n",
      "platform_processed_X360                          0.262713  0.075126 -0.020310   \n",
      "genre_processed_Action                           0.082839 -0.046346 -0.001883   \n",
      "genre_processed_Other                           -0.204107 -0.011602 -0.046873   \n",
      "genre_processed_Shooter                          0.149981  0.094214  0.034100   \n",
      "genre_processed_Sports                           0.053347 -0.020856  0.037445   \n",
      "publisher_processed_Electronic Arts              0.158079 -0.092991 -0.004943   \n",
      "publisher_processed_Nintendo                    -0.246314  0.203716  0.122774   \n",
      "publisher_processed_Other                        0.104905 -0.087221 -0.104102   \n",
      "publisher_processed_Sony Computer Entertainment -0.017548 -0.032129  0.007167   \n",
      "\n",
      "                                                 jp_sales  other_sales  \\\n",
      "year                                            -0.232140     0.197682   \n",
      "na_sales                                         0.370042     0.510497   \n",
      "eu_sales                                         0.347726     0.633478   \n",
      "jp_sales                                         1.000000     0.158821   \n",
      "other_sales                                      0.158821     1.000000   \n",
      "global_sales                                     0.555188     0.658975   \n",
      "platform_processed_Other                         0.308301    -0.163970   \n",
      "platform_processed_PS2                          -0.122219     0.122577   \n",
      "platform_processed_PS3                          -0.127268     0.130597   \n",
      "platform_processed_X360                         -0.193523    -0.020849   \n",
      "genre_processed_Action                          -0.137767     0.046452   \n",
      "genre_processed_Other                            0.266347    -0.113977   \n",
      "genre_processed_Shooter                         -0.163767     0.043180   \n",
      "genre_processed_Sports                          -0.065882     0.069609   \n",
      "publisher_processed_Electronic Arts             -0.202864     0.018894   \n",
      "publisher_processed_Nintendo                     0.511714    -0.025848   \n",
      "publisher_processed_Other                       -0.266446    -0.023903   \n",
      "publisher_processed_Sony Computer Entertainment -0.035919     0.056743   \n",
      "\n",
      "                                                 global_sales  \\\n",
      "year                                                -0.022595   \n",
      "na_sales                                             0.920483   \n",
      "eu_sales                                             0.865994   \n",
      "jp_sales                                             0.555188   \n",
      "other_sales                                          0.658975   \n",
      "global_sales                                         1.000000   \n",
      "platform_processed_Other                             0.078639   \n",
      "platform_processed_PS2                              -0.073730   \n",
      "platform_processed_PS3                              -0.024346   \n",
      "platform_processed_X360                             -0.010478   \n",
      "genre_processed_Action                              -0.049298   \n",
      "genre_processed_Other                                0.020067   \n",
      "genre_processed_Shooter                              0.033164   \n",
      "genre_processed_Sports                              -0.003611   \n",
      "publisher_processed_Electronic Arts                 -0.093382   \n",
      "publisher_processed_Nintendo                         0.258969   \n",
      "publisher_processed_Other                           -0.143171   \n",
      "publisher_processed_Sony Computer Entertainment     -0.015182   \n",
      "\n",
      "                                                 platform_processed_Other  \\\n",
      "year                                                            -0.297992   \n",
      "na_sales                                                         0.045990   \n",
      "eu_sales                                                         0.027117   \n",
      "jp_sales                                                         0.308301   \n",
      "other_sales                                                     -0.163970   \n",
      "global_sales                                                     0.078639   \n",
      "platform_processed_Other                                         1.000000   \n",
      "platform_processed_PS2                                          -0.525863   \n",
      "platform_processed_PS3                                          -0.438433   \n",
      "platform_processed_X360                                         -0.460977   \n",
      "genre_processed_Action                                          -0.095142   \n",
      "genre_processed_Other                                            0.261142   \n",
      "genre_processed_Shooter                                         -0.136019   \n",
      "genre_processed_Sports                                          -0.136299   \n",
      "publisher_processed_Electronic Arts                             -0.228922   \n",
      "publisher_processed_Nintendo                                     0.455502   \n",
      "publisher_processed_Other                                       -0.182265   \n",
      "publisher_processed_Sony Computer Entertainment                 -0.067915   \n",
      "\n",
      "                                                 platform_processed_PS2  \\\n",
      "year                                                          -0.084764   \n",
      "na_sales                                                      -0.071618   \n",
      "eu_sales                                                      -0.073725   \n",
      "jp_sales                                                      -0.122219   \n",
      "other_sales                                                    0.122577   \n",
      "global_sales                                                  -0.073730   \n",
      "platform_processed_Other                                      -0.525863   \n",
      "platform_processed_PS2                                         1.000000   \n",
      "platform_processed_PS3                                        -0.163557   \n",
      "platform_processed_X360                                       -0.171967   \n",
      "genre_processed_Action                                         0.022612   \n",
      "genre_processed_Other                                         -0.056362   \n",
      "genre_processed_Shooter                                       -0.041542   \n",
      "genre_processed_Sports                                         0.096933   \n",
      "publisher_processed_Electronic Arts                            0.125627   \n",
      "publisher_processed_Nintendo                                  -0.235650   \n",
      "publisher_processed_Other                                      0.068141   \n",
      "publisher_processed_Sony Computer Entertainment                0.072147   \n",
      "\n",
      "                                                 platform_processed_PS3  \\\n",
      "year                                                           0.275643   \n",
      "na_sales                                                      -0.066129   \n",
      "eu_sales                                                       0.063978   \n",
      "jp_sales                                                      -0.127268   \n",
      "other_sales                                                    0.130597   \n",
      "global_sales                                                  -0.024346   \n",
      "platform_processed_Other                                      -0.438433   \n",
      "platform_processed_PS2                                        -0.163557   \n",
      "platform_processed_PS3                                         1.000000   \n",
      "platform_processed_X360                                       -0.143376   \n",
      "genre_processed_Action                                         0.094521   \n",
      "genre_processed_Other                                         -0.153954   \n",
      "genre_processed_Shooter                                        0.069037   \n",
      "genre_processed_Sports                                         0.045673   \n",
      "publisher_processed_Electronic Arts                            0.087456   \n",
      "publisher_processed_Nintendo                                  -0.201822   \n",
      "publisher_processed_Other                                      0.024919   \n",
      "publisher_processed_Sony Computer Entertainment                0.145992   \n",
      "\n",
      "                                                 platform_processed_X360  \\\n",
      "year                                                            0.262713   \n",
      "na_sales                                                        0.075126   \n",
      "eu_sales                                                       -0.020310   \n",
      "jp_sales                                                       -0.193523   \n",
      "other_sales                                                    -0.020849   \n",
      "global_sales                                                   -0.010478   \n",
      "platform_processed_Other                                       -0.460977   \n",
      "platform_processed_PS2                                         -0.171967   \n",
      "platform_processed_PS3                                         -0.143376   \n",
      "platform_processed_X360                                         1.000000   \n",
      "genre_processed_Action                                          0.023090   \n",
      "genre_processed_Other                                          -0.171227   \n",
      "genre_processed_Shooter                                         0.177733   \n",
      "genre_processed_Sports                                          0.048677   \n",
      "publisher_processed_Electronic Arts                             0.112207   \n",
      "publisher_processed_Nintendo                                   -0.212199   \n",
      "publisher_processed_Other                                       0.167389   \n",
      "publisher_processed_Sony Computer Entertainment                -0.120606   \n",
      "\n",
      "                                                 genre_processed_Action  \\\n",
      "year                                                           0.082839   \n",
      "na_sales                                                      -0.046346   \n",
      "eu_sales                                                      -0.001883   \n",
      "jp_sales                                                      -0.137767   \n",
      "other_sales                                                    0.046452   \n",
      "global_sales                                                  -0.049298   \n",
      "platform_processed_Other                                      -0.095142   \n",
      "platform_processed_PS2                                         0.022612   \n",
      "platform_processed_PS3                                         0.094521   \n",
      "platform_processed_X360                                        0.023090   \n",
      "genre_processed_Action                                         1.000000   \n",
      "genre_processed_Other                                         -0.542498   \n",
      "genre_processed_Shooter                                       -0.195425   \n",
      "genre_processed_Sports                                        -0.198888   \n",
      "publisher_processed_Electronic Arts                           -0.142918   \n",
      "publisher_processed_Nintendo                                  -0.136264   \n",
      "publisher_processed_Other                                      0.222108   \n",
      "publisher_processed_Sony Computer Entertainment               -0.009094   \n",
      "\n",
      "                                                 genre_processed_Other  \\\n",
      "year                                                         -0.204107   \n",
      "na_sales                                                     -0.011602   \n",
      "eu_sales                                                     -0.046873   \n",
      "jp_sales                                                      0.266347   \n",
      "other_sales                                                  -0.113977   \n",
      "global_sales                                                  0.020067   \n",
      "platform_processed_Other                                      0.261142   \n",
      "platform_processed_PS2                                       -0.056362   \n",
      "platform_processed_PS3                                       -0.153954   \n",
      "platform_processed_X360                                      -0.171227   \n",
      "genre_processed_Action                                       -0.542498   \n",
      "genre_processed_Other                                         1.000000   \n",
      "genre_processed_Shooter                                      -0.411141   \n",
      "genre_processed_Sports                                       -0.418429   \n",
      "publisher_processed_Electronic Arts                          -0.165584   \n",
      "publisher_processed_Nintendo                                  0.278199   \n",
      "publisher_processed_Other                                    -0.149005   \n",
      "publisher_processed_Sony Computer Entertainment               0.057281   \n",
      "\n",
      "                                                 genre_processed_Shooter  \\\n",
      "year                                                            0.149981   \n",
      "na_sales                                                        0.094214   \n",
      "eu_sales                                                        0.034100   \n",
      "jp_sales                                                       -0.163767   \n",
      "other_sales                                                     0.043180   \n",
      "global_sales                                                    0.033164   \n",
      "platform_processed_Other                                       -0.136019   \n",
      "platform_processed_PS2                                         -0.041542   \n",
      "platform_processed_PS3                                          0.069037   \n",
      "platform_processed_X360                                         0.177733   \n",
      "genre_processed_Action                                         -0.195425   \n",
      "genre_processed_Other                                          -0.411141   \n",
      "genre_processed_Shooter                                         1.000000   \n",
      "genre_processed_Sports                                         -0.150731   \n",
      "publisher_processed_Electronic Arts                             0.065172   \n",
      "publisher_processed_Nintendo                                   -0.153619   \n",
      "publisher_processed_Other                                       0.085168   \n",
      "publisher_processed_Sony Computer Entertainment                -0.003707   \n",
      "\n",
      "                                                 genre_processed_Sports  \\\n",
      "year                                                           0.053347   \n",
      "na_sales                                                      -0.020856   \n",
      "eu_sales                                                       0.037445   \n",
      "jp_sales                                                      -0.065882   \n",
      "other_sales                                                    0.069609   \n",
      "global_sales                                                  -0.003611   \n",
      "platform_processed_Other                                      -0.136299   \n",
      "platform_processed_PS2                                         0.096933   \n",
      "platform_processed_PS3                                         0.045673   \n",
      "platform_processed_X360                                        0.048677   \n",
      "genre_processed_Action                                        -0.198888   \n",
      "genre_processed_Other                                         -0.418429   \n",
      "genre_processed_Shooter                                       -0.150731   \n",
      "genre_processed_Sports                                         1.000000   \n",
      "publisher_processed_Electronic Arts                            0.348854   \n",
      "publisher_processed_Nintendo                                  -0.095099   \n",
      "publisher_processed_Other                                     -0.129202   \n",
      "publisher_processed_Sony Computer Entertainment               -0.069688   \n",
      "\n",
      "                                                 publisher_processed_Electronic Arts  \\\n",
      "year                                                                        0.158079   \n",
      "na_sales                                                                   -0.092991   \n",
      "eu_sales                                                                   -0.004943   \n",
      "jp_sales                                                                   -0.202864   \n",
      "other_sales                                                                 0.018894   \n",
      "global_sales                                                               -0.093382   \n",
      "platform_processed_Other                                                   -0.228922   \n",
      "platform_processed_PS2                                                      0.125627   \n",
      "platform_processed_PS3                                                      0.087456   \n",
      "platform_processed_X360                                                     0.112207   \n",
      "genre_processed_Action                                                     -0.142918   \n",
      "genre_processed_Other                                                      -0.165584   \n",
      "genre_processed_Shooter                                                     0.065172   \n",
      "genre_processed_Sports                                                      0.348854   \n",
      "publisher_processed_Electronic Arts                                         1.000000   \n",
      "publisher_processed_Nintendo                                               -0.228690   \n",
      "publisher_processed_Other                                                  -0.447027   \n",
      "publisher_processed_Sony Computer Entertainment                            -0.129979   \n",
      "\n",
      "                                                 publisher_processed_Nintendo  \\\n",
      "year                                                                -0.246314   \n",
      "na_sales                                                             0.203716   \n",
      "eu_sales                                                             0.122774   \n",
      "jp_sales                                                             0.511714   \n",
      "other_sales                                                         -0.025848   \n",
      "global_sales                                                         0.258969   \n",
      "platform_processed_Other                                             0.455502   \n",
      "platform_processed_PS2                                              -0.235650   \n",
      "platform_processed_PS3                                              -0.201822   \n",
      "platform_processed_X360                                             -0.212199   \n",
      "genre_processed_Action                                              -0.136264   \n",
      "genre_processed_Other                                                0.278199   \n",
      "genre_processed_Shooter                                             -0.153619   \n",
      "genre_processed_Sports                                              -0.095099   \n",
      "publisher_processed_Electronic Arts                                 -0.228690   \n",
      "publisher_processed_Nintendo                                         1.000000   \n",
      "publisher_processed_Other                                           -0.583880   \n",
      "publisher_processed_Sony Computer Entertainment                     -0.169771   \n",
      "\n",
      "                                                 publisher_processed_Other  \\\n",
      "year                                                              0.104905   \n",
      "na_sales                                                         -0.087221   \n",
      "eu_sales                                                         -0.104102   \n",
      "jp_sales                                                         -0.266446   \n",
      "other_sales                                                      -0.023903   \n",
      "global_sales                                                     -0.143171   \n",
      "platform_processed_Other                                         -0.182265   \n",
      "platform_processed_PS2                                            0.068141   \n",
      "platform_processed_PS3                                            0.024919   \n",
      "platform_processed_X360                                           0.167389   \n",
      "genre_processed_Action                                            0.222108   \n",
      "genre_processed_Other                                            -0.149005   \n",
      "genre_processed_Shooter                                           0.085168   \n",
      "genre_processed_Sports                                           -0.129202   \n",
      "publisher_processed_Electronic Arts                              -0.447027   \n",
      "publisher_processed_Nintendo                                     -0.583880   \n",
      "publisher_processed_Other                                         1.000000   \n",
      "publisher_processed_Sony Computer Entertainment                  -0.331856   \n",
      "\n",
      "                                                 publisher_processed_Sony Computer Entertainment  \n",
      "year                                                                                   -0.017548  \n",
      "na_sales                                                                               -0.032129  \n",
      "eu_sales                                                                                0.007167  \n",
      "jp_sales                                                                               -0.035919  \n",
      "other_sales                                                                             0.056743  \n",
      "global_sales                                                                           -0.015182  \n",
      "platform_processed_Other                                                               -0.067915  \n",
      "platform_processed_PS2                                                                  0.072147  \n",
      "platform_processed_PS3                                                                  0.145992  \n",
      "platform_processed_X360                                                                -0.120606  \n",
      "genre_processed_Action                                                                 -0.009094  \n",
      "genre_processed_Other                                                                   0.057281  \n",
      "genre_processed_Shooter                                                                -0.003707  \n",
      "genre_processed_Sports                                                                 -0.069688  \n",
      "publisher_processed_Electronic Arts                                                    -0.129979  \n",
      "publisher_processed_Nintendo                                                           -0.169771  \n",
      "publisher_processed_Other                                                              -0.331856  \n",
      "publisher_processed_Sony Computer Entertainment                                         1.000000  \n"
     ]
    }
   ],
   "source": [
    "print(correlation_matrix)\n"
   ]
  },
  {
   "cell_type": "code",
   "execution_count": 269,
   "id": "5acf764b-55fc-409b-9023-06900974f8b8",
   "metadata": {},
   "outputs": [
    {
     "name": "stdout",
     "output_type": "stream",
     "text": [
      "[('global_sales', 'na_sales'), ('global_sales', 'eu_sales')]\n"
     ]
    }
   ],
   "source": [
    "# Set a threshold\n",
    "threshold = 0.7\n",
    "\n",
    "# Get a boolean mask where True indicates the correlation is higher than the threshold\n",
    "strong_corr = (abs(correlation_matrix) > threshold) & (correlation_matrix != 1)\n",
    "\n",
    "# Extract the strongly correlated features\n",
    "strongly_correlated_features = []\n",
    "for i in range(len(correlation_matrix.columns)):\n",
    "    for j in range(i):\n",
    "        if strong_corr.iloc[i, j]:\n",
    "            strongly_correlated_features.append((correlation_matrix.columns[i], correlation_matrix.columns[j]))\n",
    "\n",
    "print(strongly_correlated_features)"
   ]
  },
  {
   "cell_type": "code",
   "execution_count": 282,
   "id": "0a9f4694-2950-40f2-a728-efc69e0248ba",
   "metadata": {},
   "outputs": [
    {
     "data": {
      "image/png": "[encoded data removed]",
      "text/plain": [
       "<Figure size 800x500 with 1 Axes>"
      ]
     },
     "metadata": {},
     "output_type": "display_data"
    }
   ],
   "source": [
    "import seaborn as sns\n",
    "import matplotlib.pyplot as plt\n",
    "\n",
    "plt.figure(figsize=(8, 5))\n",
    "sns.histplot(data['global_sales'], bins=30, kde=True)\n",
    "plt.title('Distribution of Global Sales')\n",
    "plt.xlabel('Global Sales')\n",
    "plt.ylabel('Count')\n",
    "plt.show()\n"
   ]
  },
  {
   "cell_type": "code",
   "execution_count": 283,
   "id": "d6d9217c-f79e-49df-9eef-ddddad322e44",
   "metadata": {},
   "outputs": [
    {
     "data": {
      "image/png": "[encoded data removed]",
      "text/plain": [
       "<Figure size 1200x600 with 1 Axes>"
      ]
     },
     "metadata": {},
     "output_type": "display_data"
    }
   ],
   "source": [
    "plt.figure(figsize=(12, 6))\n",
    "sns.lineplot(x='year', y='global_sales', data=data, marker='o')\n",
    "plt.title('Sales Over the Years')\n",
    "plt.xlabel('Year')\n",
    "plt.ylabel('Global Sales')\n",
    "plt.show()\n"
   ]
  },
  {
   "cell_type": "code",
   "execution_count": 284,
   "id": "3e0c1139-f4f2-48f0-808a-d00aa0863c4b",
   "metadata": {},
   "outputs": [
    {
     "data": {
      "image/png": "[encoded data removed]",
      "text/plain": [
       "<Figure size 1200x600 with 1 Axes>"
      ]
     },
     "metadata": {},
     "output_type": "display_data"
    }
   ],
   "source": [
    "plt.figure(figsize=(12,6))\n",
    "sns.boxplot(data=data[['na_sales', 'eu_sales', 'jp_sales', 'other_sales']])\n",
    "plt.title('Comparison of Sales Across Different Regions')\n",
    "plt.xlabel('Regions')\n",
    "plt.ylabel('Sales')\n",
    "plt.show()\n"
   ]
  },
  {
   "cell_type": "code",
   "execution_count": 290,
   "id": "9d8832bd-ed0c-4203-9316-152f47fe55d1",
   "metadata": {},
   "outputs": [
    {
     "data": {
      "text/plain": [
       "Text(0, 0.5, 'Global Sales')"
      ]
     },
     "execution_count": 290,
     "metadata": {},
     "output_type": "execute_result"
    },
    {
     "data": {
      "image/png": "[encoded data removed]",
      "text/plain": [
       "<Figure size 640x480 with 1 Axes>"
      ]
     },
     "metadata": {},
     "output_type": "display_data"
    }
   ],
   "source": [
    "# Scatter plot for Global Sales vs NA Sales\n",
    "plt.subplot(1, 2, 1)\n",
    "sns.scatterplot(x=data['na_sales'], y=data['global_sales'])\n",
    "plt.title('Global Sales vs NA Sales')\n",
    "plt.xlabel('NA Sales')\n",
    "plt.ylabel('Global Sales')"
   ]
  },
  {
   "cell_type": "code",
   "execution_count": 291,
   "id": "0f27e684-8be0-4621-b1a5-1a962778d44e",
   "metadata": {},
   "outputs": [
    {
     "data": {
      "image/png": "[encoded data removed]",
      "text/plain": [
       "<Figure size 640x480 with 1 Axes>"
      ]
     },
     "metadata": {},
     "output_type": "display_data"
    }
   ],
   "source": [
    "plt.subplot(1, 2, 2)\n",
    "sns.scatterplot(x=data['eu_sales'], y=data['global_sales'])\n",
    "plt.title('Global Sales vs EU Sales')\n",
    "plt.xlabel('EU Sales')\n",
    "plt.ylabel('Global Sales')\n",
    "\n",
    "plt.tight_layout()\n",
    "plt.show()"
   ]
  },
  {
   "cell_type": "code",
   "execution_count": null,
   "id": "1d6d7514-0b1e-46e7-aa60-5d446fef36e0",
   "metadata": {},
   "outputs": [],
   "source": [
    "MODEL BUILDING AND SELECTION\n"
   ]
  },
  {
   "cell_type": "code",
   "execution_count": 270,
   "id": "0b44ad8e-d1c5-494f-ae81-1db94ff43fe5",
   "metadata": {},
   "outputs": [],
   "source": [
    "X = data.drop('global_sales', axis=1)\n",
    "y = data['global_sales']"
   ]
  },
  {
   "cell_type": "code",
   "execution_count": 271,
   "id": "e3e321fa-deca-4f26-8b04-fe04205304f7",
   "metadata": {},
   "outputs": [
    {
     "name": "stdout",
     "output_type": "stream",
     "text": [
      "Requirement already satisfied: scikit-learn in c:\\users\\hemal\\desktop\\videogames\\env\\lib\\site-packages (1.6.1)\n",
      "Requirement already satisfied: numpy>=1.19.5 in c:\\users\\hemal\\desktop\\videogames\\env\\lib\\site-packages (from scikit-learn) (2.2.4)\n",
      "Requirement already satisfied: scipy>=1.6.0 in c:\\users\\hemal\\desktop\\videogames\\env\\lib\\site-packages (from scikit-learn) (1.15.2)\n",
      "Requirement already satisfied: joblib>=1.2.0 in c:\\users\\hemal\\desktop\\videogames\\env\\lib\\site-packages (from scikit-learn) (1.4.2)\n",
      "Requirement already satisfied: threadpoolctl>=3.1.0 in c:\\users\\hemal\\desktop\\videogames\\env\\lib\\site-packages (from scikit-learn) (3.6.0)\n"
     ]
    }
   ],
   "source": [
    "!pip install scikit-learn\n"
   ]
  },
  {
   "cell_type": "code",
   "execution_count": 272,
   "id": "3362be84-f4c9-4c2e-a1b6-664a060af533",
   "metadata": {},
   "outputs": [],
   "source": [
    "from sklearn.model_selection import train_test_split\n",
    "X_train, X_test, y_train, y_test = train_test_split(X, y, test_size = 0.25)\n"
   ]
  },
  {
   "cell_type": "code",
   "execution_count": 273,
   "id": "146a11c2-0baf-498e-8704-df3cceb1175c",
   "metadata": {},
   "outputs": [
    {
     "data": {
      "text/plain": [
       "((750, 17), (250, 17))"
      ]
     },
     "execution_count": 273,
     "metadata": {},
     "output_type": "execute_result"
    }
   ],
   "source": [
    "X_train.shape, X_test.shape\n"
   ]
  },
  {
   "cell_type": "code",
   "execution_count": 137,
   "id": "422b54e6-9a45-4671-aae7-e2dc7b9c1cb1",
   "metadata": {},
   "outputs": [
    {
     "ename": "SyntaxError",
     "evalue": "invalid syntax (317892889.py, line 1)",
     "output_type": "error",
     "traceback": [
      "  \u001b[36mCell\u001b[39m\u001b[36m \u001b[39m\u001b[32mIn[137]\u001b[39m\u001b[32m, line 1\u001b[39m\n\u001b[31m    \u001b[39m\u001b[31mMODEL TRAINING\u001b[39m\n          ^\n\u001b[31mSyntaxError\u001b[39m\u001b[31m:\u001b[39m invalid syntax\n"
     ]
    }
   ],
   "source": [
    "MODEL TRAINING"
   ]
  },
  {
   "cell_type": "code",
   "execution_count": 274,
   "id": "3e731e0f-6fec-4ade-b19b-2f1992422082",
   "metadata": {},
   "outputs": [],
   "source": [
    "def model_acc(model):\n",
    "    model.fit(X_train, y_train)\n",
    "    acc = model.score(X_test, y_test)\n",
    "    print(str(model)+ ' --> ' +str(acc))"
   ]
  },
  {
   "cell_type": "code",
   "execution_count": 275,
   "id": "d95327c7-fa81-4389-aa5d-be2ece8979f0",
   "metadata": {},
   "outputs": [
    {
     "name": "stdout",
     "output_type": "stream",
     "text": [
      "LinearRegression() --> 0.9999980758209258\n",
      "Lasso() --> 0.8831504677045343\n",
      "DecisionTreeRegressor() --> 0.9151609465120698\n",
      "RandomForestRegressor() --> 0.9414303219049092\n",
      "Ridge() --> 0.9999973112973862\n"
     ]
    }
   ],
   "source": [
    "from sklearn.linear_model import LinearRegression\n",
    "lr = LinearRegression()\n",
    "model_acc(lr)\n",
    "\n",
    "from sklearn.linear_model import Lasso\n",
    "lasso = Lasso()\n",
    "model_acc(lasso)\n",
    "\n",
    "from sklearn.tree import DecisionTreeRegressor\n",
    "dt = DecisionTreeRegressor()\n",
    "model_acc(dt)\n",
    "\n",
    "from sklearn.ensemble import RandomForestRegressor\n",
    "rf = RandomForestRegressor()\n",
    "model_acc(rf)\n",
    "from sklearn.linear_model import Ridge\n",
    "ridge = Ridge()\n",
    "model_acc(ridge)\n"
   ]
  },
  {
   "cell_type": "code",
   "execution_count": null,
   "id": "d5f1557d-b5e9-4090-a6f3-bf729705e703",
   "metadata": {},
   "outputs": [],
   "source": [
    "Hyper parameter tuning"
   ]
  },
  {
   "cell_type": "code",
   "execution_count": 276,
   "id": "47448901-58aa-4127-bd59-ae422431ddb3",
   "metadata": {},
   "outputs": [
    {
     "name": "stdout",
     "output_type": "stream",
     "text": [
      "Best Linear Regression Model: LinearRegression(fit_intercept=False)\n",
      "Test Score: 0.9999980758209248\n"
     ]
    }
   ],
   "source": [
    "from sklearn.linear_model import LinearRegression\n",
    "from sklearn.model_selection import GridSearchCV\n",
    "\n",
    "# Define the parameter grid for Linear Regression\n",
    "parameters = {'fit_intercept': [True, False]}\n",
    "\n",
    "# Create Linear Regression model\n",
    "lr = LinearRegression()\n",
    "\n",
    "# Perform Grid Search\n",
    "grid_obj = GridSearchCV(estimator=lr, param_grid=parameters, cv=5)\n",
    "grid_fit = grid_obj.fit(X_train, y_train)\n",
    "\n",
    "# Get the best model\n",
    "best_model = grid_fit.best_estimator_\n",
    "\n",
    "# Evaluate on the test set\n",
    "score = best_model.score(X_test, y_test)\n",
    "print(f\"Best Linear Regression Model: {best_model}\")\n",
    "print(f\"Test Score: {score}\")\n"
   ]
  },
  {
   "cell_type": "code",
   "execution_count": 277,
   "id": "7636bfe7-8faf-4898-9fb0-8e0ae9ba3cd0",
   "metadata": {},
   "outputs": [
    {
     "data": {
      "text/plain": [
       "Index(['year', 'na_sales', 'eu_sales', 'jp_sales', 'other_sales',\n",
       "       'platform_processed_Other', 'platform_processed_PS2',\n",
       "       'platform_processed_PS3', 'platform_processed_X360',\n",
       "       'genre_processed_Action', 'genre_processed_Other',\n",
       "       'genre_processed_Shooter', 'genre_processed_Sports',\n",
       "       'publisher_processed_Electronic Arts', 'publisher_processed_Nintendo',\n",
       "       'publisher_processed_Other',\n",
       "       'publisher_processed_Sony Computer Entertainment'],\n",
       "      dtype='object')"
      ]
     },
     "execution_count": 277,
     "metadata": {},
     "output_type": "execute_result"
    }
   ],
   "source": [
    "X_test.columns\n"
   ]
  },
  {
   "cell_type": "code",
   "execution_count": null,
   "id": "59eb6c19-f8be-4d87-aaa3-773934ab384a",
   "metadata": {},
   "outputs": [],
   "source": [
    "Save model"
   ]
  },
  {
   "cell_type": "code",
   "execution_count": 278,
   "id": "4739b93e-2dbc-46a1-895d-1bfdc49e37b4",
   "metadata": {},
   "outputs": [],
   "source": [
    "import pickle\n",
    "with open('predictor.pickle', 'wb') as file:\n",
    "    pickle.dump(best_model, file)"
   ]
  },
  {
   "cell_type": "code",
   "execution_count": 279,
   "id": "f2f631a8-00aa-4744-a2cb-f3a80f2a9b0c",
   "metadata": {},
   "outputs": [
    {
     "name": "stdout",
     "output_type": "stream",
     "text": [
      "[26074.97602077]\n"
     ]
    },
    {
     "name": "stderr",
     "output_type": "stream",
     "text": [
      "C:\\Users\\hemal\\Desktop\\VideoGames\\env\\Lib\\site-packages\\sklearn\\utils\\validation.py:2739: UserWarning: X does not have valid feature names, but LinearRegression was fitted with feature names\n",
      "  warnings.warn(\n"
     ]
    }
   ],
   "source": [
    "features = np.array([[8, 2013, 1000, 20000, 3000, 4000, 0, 1, 0, 0] + [0] * 7])\n",
    "\n",
    "pred_value = best_model.predict(features)\n",
    "\n",
    "print(pred_value)"
   ]
  },
  {
   "cell_type": "code",
   "execution_count": null,
   "id": "2744e368-f9b2-42d2-820a-360a7237165a",
   "metadata": {},
   "outputs": [],
   "source": []
  }
 ],
 "metadata": {
  "kernelspec": {
   "display_name": "Python 3 (ipykernel)",
   "language": "python",
   "name": "python3"
  },
  "language_info": {
   "codemirror_mode": {
    "name": "ipython",
    "version": 3
   },
   "file_extension": ".py",
   "mimetype": "text/x-python",
   "name": "python",
   "nbconvert_exporter": "python",
   "pygments_lexer": "ipython3",
   "version": "3.12.5"
  }
 },
 "nbformat": 4,
 "nbformat_minor": 5
}
