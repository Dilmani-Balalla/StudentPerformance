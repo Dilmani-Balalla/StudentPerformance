{
 "cells": [
  {
   "cell_type": "code",
   "execution_count": 217,
   "id": "e585086b-eb3e-46f4-b582-36d57e3c408c",
   "metadata": {},
   "outputs": [],
   "source": [
    "import pandas as pd\n",
    "import numpy as np\n",
    "from sklearn.model_selection import train_test_split\n",
    "from sklearn.preprocessing import StandardScaler, OneHotEncoder\n",
    "from sklearn.compose import ColumnTransformer\n",
    "from sklearn.pipeline import Pipeline"
   ]
  },
  {
   "cell_type": "code",
   "execution_count": 218,
   "id": "15b71bac-953b-427b-935c-d2611d37544c",
   "metadata": {},
   "outputs": [],
   "source": [
    "from sklearn.impute import SimpleImputer"
   ]
  },
  {
   "cell_type": "code",
   "execution_count": 219,
   "id": "60e0d739-5277-4d3b-946b-6c6df7e5a00d",
   "metadata": {},
   "outputs": [],
   "source": [
    "# Load the dataset\n",
    "df = pd.read_csv('video_games_sales.csv')"
   ]
  },
  {
   "cell_type": "code",
   "execution_count": 220,
   "id": "d1991102-57cb-431f-8e19-8c28032ee7a0",
   "metadata": {},
   "outputs": [
    {
     "name": "stdout",
     "output_type": "stream",
     "text": [
      "<class 'pandas.core.frame.DataFrame'>\n",
      "RangeIndex: 16598 entries, 0 to 16597\n",
      "Data columns (total 11 columns):\n",
      " #   Column        Non-Null Count  Dtype  \n",
      "---  ------        --------------  -----  \n",
      " 0   rank          16598 non-null  int64  \n",
      " 1   name          16598 non-null  object \n",
      " 2   platform      16598 non-null  object \n",
      " 3   year          16327 non-null  float64\n",
      " 4   genre         16598 non-null  object \n",
      " 5   publisher     16540 non-null  object \n",
      " 6   na_sales      16598 non-null  float64\n",
      " 7   eu_sales      16598 non-null  float64\n",
      " 8   jp_sales      16598 non-null  float64\n",
      " 9   other_sales   16598 non-null  float64\n",
      " 10  global_sales  16598 non-null  float64\n",
      "dtypes: float64(6), int64(1), object(4)\n",
      "memory usage: 1.4+ MB\n",
      "None\n",
      "               rank          year      na_sales      eu_sales      jp_sales  \\\n",
      "count  16598.000000  16327.000000  16598.000000  16598.000000  16598.000000   \n",
      "mean    8300.605254   2006.406443      0.264667      0.146652      0.077782   \n",
      "std     4791.853933      5.828981      0.816683      0.505351      0.309291   \n",
      "min        1.000000   1980.000000      0.000000      0.000000      0.000000   \n",
      "25%     4151.250000   2003.000000      0.000000      0.000000      0.000000   \n",
      "50%     8300.500000   2007.000000      0.080000      0.020000      0.000000   \n",
      "75%    12449.750000   2010.000000      0.240000      0.110000      0.040000   \n",
      "max    16600.000000   2020.000000     41.490000     29.020000     10.220000   \n",
      "\n",
      "        other_sales  global_sales  \n",
      "count  16598.000000  16598.000000  \n",
      "mean       0.048063      0.537441  \n",
      "std        0.188588      1.555028  \n",
      "min        0.000000      0.010000  \n",
      "25%        0.000000      0.060000  \n",
      "50%        0.010000      0.170000  \n",
      "75%        0.040000      0.470000  \n",
      "max       10.570000     82.740000  \n"
     ]
    }
   ],
   "source": [
    "# Display basic information\n",
    "print(df.info())\n",
    "print(df.describe())\n"
   ]
  },
  {
   "cell_type": "code",
   "execution_count": null,
   "id": "b0eab354-dcef-404a-8c9d-c0a1799dd11b",
   "metadata": {},
   "outputs": [],
   "source": [
    "DATA PREPROCESSING"
   ]
  },
  {
   "cell_type": "code",
   "execution_count": 222,
   "id": "0b8a0e05-9609-4d91-8993-b6ea8f55e89b",
   "metadata": {},
   "outputs": [
    {
     "name": "stdout",
     "output_type": "stream",
     "text": [
      "rank              0\n",
      "name              0\n",
      "platform          0\n",
      "year            271\n",
      "genre             0\n",
      "publisher        58\n",
      "na_sales          0\n",
      "eu_sales          0\n",
      "jp_sales          0\n",
      "other_sales       0\n",
      "global_sales      0\n",
      "dtype: int64\n"
     ]
    }
   ],
   "source": [
    "# Check for missing values\n",
    "print(df.isnull().sum())"
   ]
  },
  {
   "cell_type": "code",
   "execution_count": 223,
   "id": "0a249d5d-7d03-41d0-968b-b0d9489879c4",
   "metadata": {},
   "outputs": [],
   "source": [
    "df.dropna(subset=['year'], inplace=True)"
   ]
  },
  {
   "cell_type": "code",
   "execution_count": 224,
   "id": "2f1c46c2-c182-47c3-ba51-a6099f4b4166",
   "metadata": {},
   "outputs": [],
   "source": [
    "df['publisher'] = df['publisher'].fillna('Unknown')\n"
   ]
  },
  {
   "cell_type": "code",
   "execution_count": 225,
   "id": "c77de686-f258-4a64-ac48-1e4f692a2a3b",
   "metadata": {},
   "outputs": [
    {
     "name": "stdout",
     "output_type": "stream",
     "text": [
      "rank            0\n",
      "name            0\n",
      "platform        0\n",
      "year            0\n",
      "genre           0\n",
      "publisher       0\n",
      "na_sales        0\n",
      "eu_sales        0\n",
      "jp_sales        0\n",
      "other_sales     0\n",
      "global_sales    0\n",
      "dtype: int64\n"
     ]
    }
   ],
   "source": [
    "print(df.isnull().sum())"
   ]
  },
  {
   "cell_type": "code",
   "execution_count": 226,
   "id": "8c1df498-8b88-4abf-ba48-b3f63ca11537",
   "metadata": {},
   "outputs": [],
   "source": [
    "# Drop rows with missing target variable (global_sales)\n",
    "df.dropna(subset=['global_sales'], inplace=True)\n"
   ]
  },
  {
   "cell_type": "code",
   "execution_count": 227,
   "id": "b8250911-24a8-4ac5-8119-f5ace4dd5b55",
   "metadata": {},
   "outputs": [],
   "source": [
    "# Feature and target separation\n",
    "X = df.drop(columns=['global_sales', 'rank', 'name'])  # Features\n",
    "y = df['global_sales']  # Target"
   ]
  },
  {
   "cell_type": "code",
   "execution_count": 228,
   "id": "8fd914e4-e098-4282-875c-0a0d12dacfa3",
   "metadata": {},
   "outputs": [],
   "source": [
    "# Split data into training and test sets\n",
    "X_train, X_test, y_train, y_test = train_test_split(X, y, test_size=0.2, random_state=42)\n",
    "\n",
    "# Preprocessing pipeline\n",
    "numerical_features = [ 'na_sales', 'eu_sales', 'jp_sales', 'other_sales']\n",
    "categorical_features = ['platform', 'genre', 'publisher']\n",
    "\n",
    "numerical_pipeline = Pipeline([\n",
    "    ('imputer', SimpleImputer(strategy='median')),  # Handle missing numerical values\n",
    "    ('scaler', StandardScaler())  # Scale numerical features\n",
    "])\n",
    "\n",
    "categorical_pipeline = Pipeline([\n",
    "    ('imputer', SimpleImputer(strategy='most_frequent')),  # Handle missing categorical values\n",
    "    ('onehot', OneHotEncoder(handle_unknown='ignore'))  # Encode categorical features\n",
    "])"
   ]
  },
  {
   "cell_type": "code",
   "execution_count": 199,
   "id": "b5e49a5c-466b-45d5-a048-c9becbdbda9d",
   "metadata": {},
   "outputs": [],
   "source": [
    "preprocessor = ColumnTransformer([\n",
    "    ('num', numerical_pipeline, numerical_features),\n",
    "    ('cat', categorical_pipeline, categorical_features)\n",
    "])"
   ]
  },
  {
   "cell_type": "code",
   "execution_count": 200,
   "id": "ae2827dd-0709-4741-bbb9-6ee83be45082",
   "metadata": {},
   "outputs": [],
   "source": [
    "# Apply preprocessing\n",
    "X_train_preprocessed = preprocessor.fit_transform(X_train)\n",
    "X_test_preprocessed = preprocessor.transform(X_test)"
   ]
  },
  {
   "cell_type": "code",
   "execution_count": null,
   "id": "c674ad65-8290-4414-9c8f-6249495cc14e",
   "metadata": {},
   "outputs": [],
   "source": [
    "FEATURE SELECTION"
   ]
  },
  {
   "cell_type": "code",
   "execution_count": 64,
   "id": "d6054b4d-a4d6-4176-8425-5dda73a8eca1",
   "metadata": {},
   "outputs": [
    {
     "name": "stdout",
     "output_type": "stream",
     "text": [
      "  platform    year         genre publisher   na_sales   eu_sales   jp_sales  \\\n",
      "0      Wii  2006.0        Sports  Nintendo  50.480508  57.136930  11.938058   \n",
      "1      NES  1985.0      Platform  Nintendo  35.284437   6.794188  21.767296   \n",
      "2      Wii  2008.0        Racing  Nintendo  19.084273  25.197785  12.002724   \n",
      "3      Wii  2009.0        Sports  Nintendo  18.961823  21.497277  10.353740   \n",
      "4       GB  1996.0  Role-Playing  Nintendo  13.476053  17.302048  32.792857   \n",
      "\n",
      "   other_sales  global_sales  total_regional_sales  ...  \\\n",
      "0    44.606085         82.74             52.860030  ...   \n",
      "1     3.828224         40.24             25.530665  ...   \n",
      "2    17.297115         35.82             22.694842  ...   \n",
      "3    15.441165         33.00             20.875028  ...   \n",
      "4     5.047848         31.37             19.833297  ...   \n",
      "\n",
      "   platform_genre_XOne_Adventure platform_genre_XOne_Fighting  \\\n",
      "0                            0.0                          0.0   \n",
      "1                            0.0                          0.0   \n",
      "2                            0.0                          0.0   \n",
      "3                            0.0                          0.0   \n",
      "4                            0.0                          0.0   \n",
      "\n",
      "   platform_genre_XOne_Misc  platform_genre_XOne_Platform  \\\n",
      "0                       0.0                           0.0   \n",
      "1                       0.0                           0.0   \n",
      "2                       0.0                           0.0   \n",
      "3                       0.0                           0.0   \n",
      "4                       0.0                           0.0   \n",
      "\n",
      "   platform_genre_XOne_Racing  platform_genre_XOne_Role-Playing  \\\n",
      "0                         0.0                               0.0   \n",
      "1                         0.0                               0.0   \n",
      "2                         0.0                               0.0   \n",
      "3                         0.0                               0.0   \n",
      "4                         0.0                               0.0   \n",
      "\n",
      "   platform_genre_XOne_Shooter  platform_genre_XOne_Simulation  \\\n",
      "0                          0.0                             0.0   \n",
      "1                          0.0                             0.0   \n",
      "2                          0.0                             0.0   \n",
      "3                          0.0                             0.0   \n",
      "4                          0.0                             0.0   \n",
      "\n",
      "   platform_genre_XOne_Sports  platform_genre_XOne_Strategy  \n",
      "0                         0.0                           0.0  \n",
      "1                         0.0                           0.0  \n",
      "2                         0.0                           0.0  \n",
      "3                         0.0                           0.0  \n",
      "4                         0.0                           0.0  \n",
      "\n",
      "[5 rows x 927 columns]\n"
     ]
    }
   ],
   "source": [
    "# Feature extraction\n",
    "df['total_regional_sales'] = df['na_sales'] + df['eu_sales'] + df['jp_sales'] + df['other_sales']\n",
    "df['na_sales_ratio'] = df['na_sales'] / df['total_regional_sales']\n",
    "df['platform_genre'] = df['platform'] + '_' + df['genre']\n",
    "\n",
    "# One-hot encoding\n",
    "encoder = OneHotEncoder(handle_unknown='ignore', sparse_output=False)  # Use sparse_output=False\n",
    "encoded_features = encoder.fit_transform(df[['platform', 'genre', 'publisher', 'platform_genre']])\n",
    "encoded_df = pd.DataFrame(encoded_features, columns=encoder.get_feature_names_out(['platform', 'genre', 'publisher', 'platform_genre']))\n",
    "df = pd.concat([df, encoded_df], axis=1)\n",
    "\n",
    "# Feature scaling\n",
    "scaler = StandardScaler()\n",
    "df[['na_sales', 'eu_sales', 'jp_sales', 'other_sales', 'total_regional_sales', 'na_sales_ratio']] = scaler.fit_transform(\n",
    "    df[['na_sales', 'eu_sales', 'jp_sales', 'other_sales', 'total_regional_sales', 'na_sales_ratio']]\n",
    ")\n",
    "\n",
    "# Drop irrelevant columns\n",
    "df.drop(columns=['rank', 'name'], inplace=True)\n",
    "\n",
    "# Display the final DataFrame\n",
    "print(df.head())"
   ]
  },
  {
   "cell_type": "code",
   "execution_count": null,
   "id": "b436dcd2-88bb-4a38-96e1-987dac9c3d4c",
   "metadata": {},
   "outputs": [],
   "source": [
    "MODEL TRAINING"
   ]
  },
  {
   "cell_type": "code",
   "execution_count": 229,
   "id": "a4c03463-a0e8-4e92-86e4-8d099c4efed8",
   "metadata": {},
   "outputs": [
    {
     "name": "stdout",
     "output_type": "stream",
     "text": [
      "platform        object\n",
      "year           float64\n",
      "genre           object\n",
      "publisher       object\n",
      "na_sales       float64\n",
      "eu_sales       float64\n",
      "jp_sales       float64\n",
      "other_sales    float64\n",
      "dtype: object\n"
     ]
    }
   ],
   "source": [
    "print(X_train.dtypes)"
   ]
  },
  {
   "cell_type": "code",
   "execution_count": 230,
   "id": "e8681869-6334-48c4-a700-3fb04e4968a3",
   "metadata": {},
   "outputs": [
    {
     "name": "stdout",
     "output_type": "stream",
     "text": [
      "platform       0\n",
      "year           0\n",
      "genre          0\n",
      "publisher      0\n",
      "na_sales       0\n",
      "eu_sales       0\n",
      "jp_sales       0\n",
      "other_sales    0\n",
      "dtype: int64\n",
      "platform       0\n",
      "year           0\n",
      "genre          0\n",
      "publisher      0\n",
      "na_sales       0\n",
      "eu_sales       0\n",
      "jp_sales       0\n",
      "other_sales    0\n",
      "dtype: int64\n"
     ]
    }
   ],
   "source": [
    "print(X_train.isnull().sum())\n",
    "print(X_test.isnull().sum())"
   ]
  },
  {
   "cell_type": "code",
   "execution_count": 231,
   "id": "406516f4-d6a7-4daa-bd07-8d4e3cf7abab",
   "metadata": {},
   "outputs": [
    {
     "name": "stdout",
     "output_type": "stream",
     "text": [
      "(10277, 1786)\n",
      "(13061,)\n"
     ]
    }
   ],
   "source": [
    "print(X_train_final.shape)\n",
    "print(y_train.shape)\n"
   ]
  },
  {
   "cell_type": "code",
   "execution_count": 232,
   "id": "d1a7be1d-4f48-4cb4-bea7-db2272e209af",
   "metadata": {},
   "outputs": [],
   "source": [
    "# Align the data based on index\n",
    "X_train_final, y_train = X_train_final.align(y_train, join='inner', axis=0)\n"
   ]
  },
  {
   "cell_type": "code",
   "execution_count": 233,
   "id": "8e54ddc2-5d85-436e-9330-d3e216556ea2",
   "metadata": {},
   "outputs": [
    {
     "name": "stdout",
     "output_type": "stream",
     "text": [
      "(10277, 1786)\n",
      "(10277,)\n"
     ]
    }
   ],
   "source": [
    "print(X_train_final.shape)\n",
    "print(y_train.shape)"
   ]
  },
  {
   "cell_type": "code",
   "execution_count": 241,
   "id": "c24c54a7-f0ab-415b-b6bf-7192f315143e",
   "metadata": {},
   "outputs": [],
   "source": [
    "from sklearn.linear_model import LinearRegression\n",
    "from sklearn.tree import DecisionTreeRegressor\n",
    "from sklearn.ensemble import RandomForestRegressor, GradientBoostingRegressor\n",
    "from sklearn.svm import SVR\n",
    "from sklearn.metrics import mean_squared_error, r2_score\n"
   ]
  },
  {
   "cell_type": "code",
   "execution_count": 242,
   "id": "c444d7db-81b6-496c-b156-ef70312f6ed5",
   "metadata": {},
   "outputs": [],
   "source": [
    "models = {\n",
    "    'Linear Regression': LinearRegression(),\n",
    "    'Decision Tree': DecisionTreeRegressor(random_state=42),\n",
    "    'Random Forest': RandomForestRegressor(random_state=42),\n",
    "    'Gradient Boosting': GradientBoostingRegressor(random_state=42),\n",
    "    'SVR': SVR()\n",
    "}\n",
    "X_train_final.columns = X_train_final.columns.astype(str)\n",
    "X_test_final.columns = X_test_final.columns.astype(str)"
   ]
  },
  {
   "cell_type": "code",
   "execution_count": null,
   "id": "de6e3678-2707-4a2a-8e2b-498c38558b02",
   "metadata": {},
   "outputs": [],
   "source": [
    "# Drop rows with missing values\n",
    "X_train_final = X_train_final.dropna()\n",
    "y_train = y_train[X_train_final.index]  # Ensure target values match after dropping rows\n"
   ]
  },
  {
   "cell_type": "code",
   "execution_count": 244,
   "id": "b619352a-054e-40f4-81c5-6246e53d80e4",
   "metadata": {},
   "outputs": [
    {
     "name": "stdout",
     "output_type": "stream",
     "text": [
      "year           0\n",
      "na_sales       0\n",
      "eu_sales       0\n",
      "jp_sales       0\n",
      "other_sales    0\n",
      "              ..\n",
      "859            0\n",
      "860            0\n",
      "861            0\n",
      "862            0\n",
      "863            0\n",
      "Length: 1786, dtype: int64\n",
      "0\n"
     ]
    }
   ],
   "source": [
    "# Check for missing values\n",
    "print(X_train_final.isnull().sum())  # For feature data\n",
    "print(y_train.isnull().sum())  # For target data\n"
   ]
  },
  {
   "cell_type": "code",
   "execution_count": 238,
   "id": "bdbd9997-b8a2-4bc4-b236-546a1e8909ad",
   "metadata": {},
   "outputs": [
    {
     "name": "stdout",
     "output_type": "stream",
     "text": [
      "X_train shape: (13061, 8)\n",
      "y_train shape: (10277,)\n",
      "X_test shape: (3266, 8)\n",
      "y_test shape: (3266,)\n"
     ]
    }
   ],
   "source": [
    "print(\"X_train shape:\", X_train.shape)\n",
    "print(\"y_train shape:\", y_train.shape)\n",
    "print(\"X_test shape:\", X_test.shape)\n",
    "print(\"y_test shape:\", y_test.shape)\n"
   ]
  },
  {
   "cell_type": "code",
   "execution_count": null,
   "id": "7a1e4065-9bc0-4b83-9de8-5198fc222bc3",
   "metadata": {},
   "outputs": [],
   "source": [
    "# Reset indices of both X_train and y_train to ensure they are aligned\n",
    "X_train = X_train.reset_index(drop=True)\n",
    "y_train = y_train.reset_index(drop=True)\n",
    "\n",
    "# Ensure both X_train and y_train have the same length\n",
    "# Now filter out rows where y_train is NaN and align them correctly\n",
    "X_train = X_train[~y_train.isna()]  # Only keep rows where y_train is not NaN\n",
    "y_train = y_train.dropna()  # Drop the NaN values in y_train\n",
    "\n",
    "# Check the shapes after filtering\n",
    "print(\"X_train shape:\", X_train.shape)\n",
    "print(\"y_train shape:\", y_train.shape)\n"
   ]
  },
  {
   "cell_type": "code",
   "execution_count": 210,
   "id": "98166693-bffc-47e4-a5f8-6a180350531a",
   "metadata": {},
   "outputs": [
    {
     "ename": "ValueError",
     "evalue": "Found input variables with inconsistent numbers of samples: [13061, 10277]",
     "output_type": "error",
     "traceback": [
      "\u001b[1;31m---------------------------------------------------------------------------\u001b[0m",
      "\u001b[1;31mValueError\u001b[0m                                Traceback (most recent call last)",
      "Cell \u001b[1;32mIn[210], line 30\u001b[0m\n\u001b[0;32m     27\u001b[0m \u001b[38;5;28;01mfor\u001b[39;00m name, model \u001b[38;5;129;01min\u001b[39;00m models\u001b[38;5;241m.\u001b[39mitems():\n\u001b[0;32m     28\u001b[0m     \u001b[38;5;66;03m# Create a pipeline with preprocessing and the specific model\u001b[39;00m\n\u001b[0;32m     29\u001b[0m     pipeline\u001b[38;5;241m.\u001b[39mset_params(model\u001b[38;5;241m=\u001b[39mmodel)\n\u001b[1;32m---> 30\u001b[0m     pipeline\u001b[38;5;241m.\u001b[39mfit(X_train, y_train)  \u001b[38;5;66;03m# Train the model\u001b[39;00m\n\u001b[0;32m     31\u001b[0m     y_pred \u001b[38;5;241m=\u001b[39m pipeline\u001b[38;5;241m.\u001b[39mpredict(X_test)  \u001b[38;5;66;03m# Make predictions\u001b[39;00m\n\u001b[0;32m     32\u001b[0m     mse \u001b[38;5;241m=\u001b[39m mean_squared_error(y_test, y_pred)  \u001b[38;5;66;03m# Mean Squared Error\u001b[39;00m\n",
      "File \u001b[1;32m~\\anaconda3\\Lib\\site-packages\\sklearn\\base.py:1473\u001b[0m, in \u001b[0;36m_fit_context.<locals>.decorator.<locals>.wrapper\u001b[1;34m(estimator, *args, **kwargs)\u001b[0m\n\u001b[0;32m   1466\u001b[0m     estimator\u001b[38;5;241m.\u001b[39m_validate_params()\n\u001b[0;32m   1468\u001b[0m \u001b[38;5;28;01mwith\u001b[39;00m config_context(\n\u001b[0;32m   1469\u001b[0m     skip_parameter_validation\u001b[38;5;241m=\u001b[39m(\n\u001b[0;32m   1470\u001b[0m         prefer_skip_nested_validation \u001b[38;5;129;01mor\u001b[39;00m global_skip_validation\n\u001b[0;32m   1471\u001b[0m     )\n\u001b[0;32m   1472\u001b[0m ):\n\u001b[1;32m-> 1473\u001b[0m     \u001b[38;5;28;01mreturn\u001b[39;00m fit_method(estimator, \u001b[38;5;241m*\u001b[39margs, \u001b[38;5;241m*\u001b[39m\u001b[38;5;241m*\u001b[39mkwargs)\n",
      "File \u001b[1;32m~\\anaconda3\\Lib\\site-packages\\sklearn\\pipeline.py:473\u001b[0m, in \u001b[0;36mfit\u001b[1;34m(self, X, y, **params)\u001b[0m\n\u001b[0;32m      0\u001b[0m <Error retrieving source code with stack_data see ipython/ipython#13598>\n",
      "File \u001b[1;32m~\\anaconda3\\Lib\\site-packages\\sklearn\\base.py:1473\u001b[0m, in \u001b[0;36m_fit_context.<locals>.decorator.<locals>.wrapper\u001b[1;34m(estimator, *args, **kwargs)\u001b[0m\n\u001b[0;32m   1466\u001b[0m     estimator\u001b[38;5;241m.\u001b[39m_validate_params()\n\u001b[0;32m   1468\u001b[0m \u001b[38;5;28;01mwith\u001b[39;00m config_context(\n\u001b[0;32m   1469\u001b[0m     skip_parameter_validation\u001b[38;5;241m=\u001b[39m(\n\u001b[0;32m   1470\u001b[0m         prefer_skip_nested_validation \u001b[38;5;129;01mor\u001b[39;00m global_skip_validation\n\u001b[0;32m   1471\u001b[0m     )\n\u001b[0;32m   1472\u001b[0m ):\n\u001b[1;32m-> 1473\u001b[0m     \u001b[38;5;28;01mreturn\u001b[39;00m fit_method(estimator, \u001b[38;5;241m*\u001b[39margs, \u001b[38;5;241m*\u001b[39m\u001b[38;5;241m*\u001b[39mkwargs)\n",
      "File \u001b[1;32m~\\anaconda3\\Lib\\site-packages\\sklearn\\linear_model\\_base.py:609\u001b[0m, in \u001b[0;36mLinearRegression.fit\u001b[1;34m(self, X, y, sample_weight)\u001b[0m\n\u001b[0;32m    605\u001b[0m n_jobs_ \u001b[38;5;241m=\u001b[39m \u001b[38;5;28mself\u001b[39m\u001b[38;5;241m.\u001b[39mn_jobs\n\u001b[0;32m    607\u001b[0m accept_sparse \u001b[38;5;241m=\u001b[39m \u001b[38;5;28;01mFalse\u001b[39;00m \u001b[38;5;28;01mif\u001b[39;00m \u001b[38;5;28mself\u001b[39m\u001b[38;5;241m.\u001b[39mpositive \u001b[38;5;28;01melse\u001b[39;00m [\u001b[38;5;124m\"\u001b[39m\u001b[38;5;124mcsr\u001b[39m\u001b[38;5;124m\"\u001b[39m, \u001b[38;5;124m\"\u001b[39m\u001b[38;5;124mcsc\u001b[39m\u001b[38;5;124m\"\u001b[39m, \u001b[38;5;124m\"\u001b[39m\u001b[38;5;124mcoo\u001b[39m\u001b[38;5;124m\"\u001b[39m]\n\u001b[1;32m--> 609\u001b[0m X, y \u001b[38;5;241m=\u001b[39m \u001b[38;5;28mself\u001b[39m\u001b[38;5;241m.\u001b[39m_validate_data(\n\u001b[0;32m    610\u001b[0m     X,\n\u001b[0;32m    611\u001b[0m     y,\n\u001b[0;32m    612\u001b[0m     accept_sparse\u001b[38;5;241m=\u001b[39maccept_sparse,\n\u001b[0;32m    613\u001b[0m     y_numeric\u001b[38;5;241m=\u001b[39m\u001b[38;5;28;01mTrue\u001b[39;00m,\n\u001b[0;32m    614\u001b[0m     multi_output\u001b[38;5;241m=\u001b[39m\u001b[38;5;28;01mTrue\u001b[39;00m,\n\u001b[0;32m    615\u001b[0m     force_writeable\u001b[38;5;241m=\u001b[39m\u001b[38;5;28;01mTrue\u001b[39;00m,\n\u001b[0;32m    616\u001b[0m )\n\u001b[0;32m    618\u001b[0m has_sw \u001b[38;5;241m=\u001b[39m sample_weight \u001b[38;5;129;01mis\u001b[39;00m \u001b[38;5;129;01mnot\u001b[39;00m \u001b[38;5;28;01mNone\u001b[39;00m\n\u001b[0;32m    619\u001b[0m \u001b[38;5;28;01mif\u001b[39;00m has_sw:\n",
      "File \u001b[1;32m~\\anaconda3\\Lib\\site-packages\\sklearn\\base.py:650\u001b[0m, in \u001b[0;36mBaseEstimator._validate_data\u001b[1;34m(self, X, y, reset, validate_separately, cast_to_ndarray, **check_params)\u001b[0m\n\u001b[0;32m    648\u001b[0m         y \u001b[38;5;241m=\u001b[39m check_array(y, input_name\u001b[38;5;241m=\u001b[39m\u001b[38;5;124m\"\u001b[39m\u001b[38;5;124my\u001b[39m\u001b[38;5;124m\"\u001b[39m, \u001b[38;5;241m*\u001b[39m\u001b[38;5;241m*\u001b[39mcheck_y_params)\n\u001b[0;32m    649\u001b[0m     \u001b[38;5;28;01melse\u001b[39;00m:\n\u001b[1;32m--> 650\u001b[0m         X, y \u001b[38;5;241m=\u001b[39m check_X_y(X, y, \u001b[38;5;241m*\u001b[39m\u001b[38;5;241m*\u001b[39mcheck_params)\n\u001b[0;32m    651\u001b[0m     out \u001b[38;5;241m=\u001b[39m X, y\n\u001b[0;32m    653\u001b[0m \u001b[38;5;28;01mif\u001b[39;00m \u001b[38;5;129;01mnot\u001b[39;00m no_val_X \u001b[38;5;129;01mand\u001b[39;00m check_params\u001b[38;5;241m.\u001b[39mget(\u001b[38;5;124m\"\u001b[39m\u001b[38;5;124mensure_2d\u001b[39m\u001b[38;5;124m\"\u001b[39m, \u001b[38;5;28;01mTrue\u001b[39;00m):\n",
      "File \u001b[1;32m~\\anaconda3\\Lib\\site-packages\\sklearn\\utils\\validation.py:1320\u001b[0m, in \u001b[0;36mcheck_X_y\u001b[1;34m(X, y, accept_sparse, accept_large_sparse, dtype, order, copy, force_writeable, force_all_finite, ensure_2d, allow_nd, multi_output, ensure_min_samples, ensure_min_features, y_numeric, estimator)\u001b[0m\n\u001b[0;32m   1301\u001b[0m X \u001b[38;5;241m=\u001b[39m check_array(\n\u001b[0;32m   1302\u001b[0m     X,\n\u001b[0;32m   1303\u001b[0m     accept_sparse\u001b[38;5;241m=\u001b[39maccept_sparse,\n\u001b[1;32m   (...)\u001b[0m\n\u001b[0;32m   1315\u001b[0m     input_name\u001b[38;5;241m=\u001b[39m\u001b[38;5;124m\"\u001b[39m\u001b[38;5;124mX\u001b[39m\u001b[38;5;124m\"\u001b[39m,\n\u001b[0;32m   1316\u001b[0m )\n\u001b[0;32m   1318\u001b[0m y \u001b[38;5;241m=\u001b[39m _check_y(y, multi_output\u001b[38;5;241m=\u001b[39mmulti_output, y_numeric\u001b[38;5;241m=\u001b[39my_numeric, estimator\u001b[38;5;241m=\u001b[39mestimator)\n\u001b[1;32m-> 1320\u001b[0m check_consistent_length(X, y)\n\u001b[0;32m   1322\u001b[0m \u001b[38;5;28;01mreturn\u001b[39;00m X, y\n",
      "File \u001b[1;32m~\\anaconda3\\Lib\\site-packages\\sklearn\\utils\\validation.py:457\u001b[0m, in \u001b[0;36mcheck_consistent_length\u001b[1;34m(*arrays)\u001b[0m\n\u001b[0;32m    455\u001b[0m uniques \u001b[38;5;241m=\u001b[39m np\u001b[38;5;241m.\u001b[39munique(lengths)\n\u001b[0;32m    456\u001b[0m \u001b[38;5;28;01mif\u001b[39;00m \u001b[38;5;28mlen\u001b[39m(uniques) \u001b[38;5;241m>\u001b[39m \u001b[38;5;241m1\u001b[39m:\n\u001b[1;32m--> 457\u001b[0m     \u001b[38;5;28;01mraise\u001b[39;00m \u001b[38;5;167;01mValueError\u001b[39;00m(\n\u001b[0;32m    458\u001b[0m         \u001b[38;5;124m\"\u001b[39m\u001b[38;5;124mFound input variables with inconsistent numbers of samples: \u001b[39m\u001b[38;5;132;01m%r\u001b[39;00m\u001b[38;5;124m\"\u001b[39m\n\u001b[0;32m    459\u001b[0m         \u001b[38;5;241m%\u001b[39m [\u001b[38;5;28mint\u001b[39m(l) \u001b[38;5;28;01mfor\u001b[39;00m l \u001b[38;5;129;01min\u001b[39;00m lengths]\n\u001b[0;32m    460\u001b[0m     )\n",
      "\u001b[1;31mValueError\u001b[0m: Found input variables with inconsistent numbers of samples: [13061, 10277]"
     ]
    }
   ],
   "source": [
    "categorical_columns = ['platform', 'genre', 'publisher']  # Add other categorical columns here\n",
    "\n",
    "# Create a column transformer to handle categorical columns with one-hot encoding\n",
    "preprocessor = ColumnTransformer(\n",
    "    transformers=[\n",
    "        ('cat', OneHotEncoder(), categorical_columns)\n",
    "    ],\n",
    "    remainder='passthrough'  # Keep other columns as they are (numeric columns)\n",
    ")\n",
    "\n",
    "# Create a pipeline that includes preprocessing and model training\n",
    "pipeline = Pipeline(steps=[\n",
    "    ('preprocessor', preprocessor),\n",
    "    ('model', LinearRegression())  # You can replace this with other models later\n",
    "])\n",
    "\n",
    "# Train the models and evaluate\n",
    "models = {\n",
    "    'Linear Regression': LinearRegression(),\n",
    "    'Decision Tree': DecisionTreeRegressor(random_state=42),\n",
    "    'Random Forest': RandomForestRegressor(random_state=42),\n",
    "    'Gradient Boosting': GradientBoostingRegressor(random_state=42),\n",
    "    'SVR': SVR()\n",
    "}\n",
    "\n",
    "results = {}\n",
    "for name, model in models.items():\n",
    "    # Create a pipeline with preprocessing and the specific model\n",
    "    pipeline.set_params(model=model)\n",
    "    pipeline.fit(X_train, y_train)  # Train the model\n",
    "    y_pred = pipeline.predict(X_test)  # Make predictions\n",
    "    mse = mean_squared_error(y_test, y_pred)  # Mean Squared Error\n",
    "    r2 = r2_score(y_test, y_pred)  # R-squared\n",
    "    results[name] = {'MSE': mse, 'R2': r2}\n",
    "    print(f\"{name}: MSE = {mse:.2f}, R2 = {r2:.2f}\")"
   ]
  },
  {
   "cell_type": "code",
   "execution_count": 116,
   "id": "920eb3b1-ccbe-41ea-9520-949ec032d217",
   "metadata": {},
   "outputs": [],
   "source": [
    "# Convert categorical columns to one-hot encoded columns\n",
    "X_train = pd.get_dummies(X_train, drop_first=True)\n",
    "X_test = pd.get_dummies(X_test, drop_first=True)\n"
   ]
  },
  {
   "cell_type": "code",
   "execution_count": 118,
   "id": "0f4328a4-5097-4d62-849a-f5d3de0e97e5",
   "metadata": {},
   "outputs": [
    {
     "name": "stdout",
     "output_type": "stream",
     "text": [
      "Index([], dtype='object')\n"
     ]
    }
   ],
   "source": [
    "print(X_train.select_dtypes(include=['object']).columns)\n"
   ]
  },
  {
   "cell_type": "code",
   "execution_count": 119,
   "id": "926e8b42-e76e-4972-8de2-999b6ce2dcc5",
   "metadata": {},
   "outputs": [
    {
     "name": "stdout",
     "output_type": "stream",
     "text": [
      "year                                float64\n",
      "na_sales                            float64\n",
      "eu_sales                            float64\n",
      "jp_sales                            float64\n",
      "other_sales                         float64\n",
      "                                     ...   \n",
      "platform_genre_XOne_Role-Playing       bool\n",
      "platform_genre_XOne_Shooter            bool\n",
      "platform_genre_XOne_Simulation         bool\n",
      "platform_genre_XOne_Sports             bool\n",
      "platform_genre_XOne_Strategy           bool\n",
      "Length: 1782, dtype: object\n"
     ]
    }
   ],
   "source": [
    "print(X_train.dtypes)\n"
   ]
  },
  {
   "cell_type": "code",
   "execution_count": 122,
   "id": "089cdaea-a31a-4d68-a924-6a27f21dfe01",
   "metadata": {},
   "outputs": [
    {
     "name": "stdout",
     "output_type": "stream",
     "text": [
      "Data types of columns in X_train:\n",
      "year                                float64\n",
      "na_sales                            float64\n",
      "eu_sales                            float64\n",
      "jp_sales                            float64\n",
      "other_sales                         float64\n",
      "                                     ...   \n",
      "platform_genre_XOne_Role-Playing       bool\n",
      "platform_genre_XOne_Shooter            bool\n",
      "platform_genre_XOne_Simulation         bool\n",
      "platform_genre_XOne_Sports             bool\n",
      "platform_genre_XOne_Strategy           bool\n",
      "Length: 1782, dtype: object\n"
     ]
    }
   ],
   "source": [
    "# Step 1: Check the data types of each column\n",
    "print(\"Data types of columns in X_train:\")\n",
    "print(X_train.dtypes)\n"
   ]
  },
  {
   "cell_type": "code",
   "execution_count": 123,
   "id": "13629628-3829-4ef9-84a8-041a7b033cf8",
   "metadata": {},
   "outputs": [
    {
     "name": "stdout",
     "output_type": "stream",
     "text": [
      "Non-numeric columns: Index(['platform_3DO', 'platform_3DS', 'platform_DC', 'platform_DS',\n",
      "       'platform_GB', 'platform_GBA', 'platform_GC', 'platform_GEN',\n",
      "       'platform_GG', 'platform_N64',\n",
      "       ...\n",
      "       'platform_genre_XOne_Adventure', 'platform_genre_XOne_Fighting',\n",
      "       'platform_genre_XOne_Misc', 'platform_genre_XOne_Platform',\n",
      "       'platform_genre_XOne_Racing', 'platform_genre_XOne_Role-Playing',\n",
      "       'platform_genre_XOne_Shooter', 'platform_genre_XOne_Simulation',\n",
      "       'platform_genre_XOne_Sports', 'platform_genre_XOne_Strategy'],\n",
      "      dtype='object', length=860)\n"
     ]
    }
   ],
   "source": [
    "# Step 2: Identify columns that are non-numeric\n",
    "non_numeric_columns = X_train.select_dtypes(exclude=['number']).columns\n",
    "print(\"Non-numeric columns:\", non_numeric_columns)\n"
   ]
  },
  {
   "cell_type": "code",
   "execution_count": 131,
   "id": "18837103-1149-4ff5-aa03-adb89b5877dd",
   "metadata": {},
   "outputs": [],
   "source": [
    "\n",
    "# Step 3: Convert non-numeric columns to numeric (coerce errors to NaN)\n",
    "X_train = X_train.apply(pd.to_numeric, errors='coerce')\n",
    "X_test = X_test.apply(pd.to_numeric, errors='coerce')"
   ]
  },
  {
   "cell_type": "code",
   "execution_count": 132,
   "id": "9954b5e1-c3c5-47e2-9dee-9442165db28e",
   "metadata": {},
   "outputs": [],
   "source": [
    "# Step 4: Handle missing values (e.g., using SimpleImputer)\n",
    "from sklearn.impute import SimpleImputer\n",
    "imputer = SimpleImputer(strategy='mean')"
   ]
  },
  {
   "cell_type": "code",
   "execution_count": 133,
   "id": "be1b2f2a-62c9-4770-b7dd-2c61724482f5",
   "metadata": {},
   "outputs": [
    {
     "ename": "ValueError",
     "evalue": "X_train or X_test is empty or not properly initialized",
     "output_type": "error",
     "traceback": [
      "\u001b[1;31m---------------------------------------------------------------------------\u001b[0m",
      "\u001b[1;31mValueError\u001b[0m                                Traceback (most recent call last)",
      "Cell \u001b[1;32mIn[133], line 15\u001b[0m\n\u001b[0;32m     13\u001b[0m \u001b[38;5;66;03m# Check if X_train and X_test are empty or uninitialized\u001b[39;00m\n\u001b[0;32m     14\u001b[0m \u001b[38;5;28;01mif\u001b[39;00m X_train\u001b[38;5;241m.\u001b[39mempty \u001b[38;5;129;01mor\u001b[39;00m X_test\u001b[38;5;241m.\u001b[39mempty:\n\u001b[1;32m---> 15\u001b[0m     \u001b[38;5;28;01mraise\u001b[39;00m \u001b[38;5;167;01mValueError\u001b[39;00m(\u001b[38;5;124m\"\u001b[39m\u001b[38;5;124mX_train or X_test is empty or not properly initialized\u001b[39m\u001b[38;5;124m\"\u001b[39m)\n\u001b[0;32m     17\u001b[0m \u001b[38;5;66;03m# Align the columns between X_train and X_test (keeping only the common columns)\u001b[39;00m\n\u001b[0;32m     18\u001b[0m X_train, X_test \u001b[38;5;241m=\u001b[39m X_train\u001b[38;5;241m.\u001b[39malign(X_test, join\u001b[38;5;241m=\u001b[39m\u001b[38;5;124m'\u001b[39m\u001b[38;5;124minner\u001b[39m\u001b[38;5;124m'\u001b[39m, axis\u001b[38;5;241m=\u001b[39m\u001b[38;5;241m1\u001b[39m)\n",
      "\u001b[1;31mValueError\u001b[0m: X_train or X_test is empty or not properly initialized"
     ]
    }
   ],
   "source": [
    "import pandas as pd\n",
    "import numpy as np\n",
    "from sklearn.impute import SimpleImputer\n",
    "\n",
    "# Ensure X_train and X_test are DataFrames before processing\n",
    "# If they are numpy arrays, we convert them to DataFrames first\n",
    "\n",
    "if isinstance(X_train, np.ndarray):\n",
    "    X_train = pd.DataFrame(X_train)\n",
    "if isinstance(X_test, np.ndarray):\n",
    "    X_test = pd.DataFrame(X_test)\n",
    "\n",
    "# Check if X_train and X_test are empty or uninitialized\n",
    "if X_train.empty or X_test.empty:\n",
    "    raise ValueError(\"X_train or X_test is empty or not properly initialized\")\n",
    "\n",
    "# Align the columns between X_train and X_test (keeping only the common columns)\n",
    "X_train, X_test = X_train.align(X_test, join='inner', axis=1)\n",
    "\n",
    "# Ensure the columns are aligned properly\n",
    "print(f\"Aligned columns:\\nX_train columns: {X_train.columns}\\nX_test columns: {X_test.columns}\")\n",
    "\n",
    "# Apply SimpleImputer to handle missing values\n",
    "imputer = SimpleImputer(strategy='mean')\n",
    "\n",
    "# Impute the missing values (for both train and test)\n",
    "X_train = imputer.fit_transform(X_train)\n",
    "X_test = imputer.transform(X_test)\n",
    "\n",
    "# Now X_train and X_test have the same columns, and missing values are handled\n"
   ]
  },
  {
   "cell_type": "code",
   "execution_count": 134,
   "id": "5f471b95-9e9d-4c3c-bf26-f4253e30bace",
   "metadata": {},
   "outputs": [
    {
     "name": "stdout",
     "output_type": "stream",
     "text": [
      "Shape of X_train: (13061, 0)\n",
      "Shape of X_test: (3266, 0)\n"
     ]
    },
    {
     "ename": "ValueError",
     "evalue": "X_train or X_test is empty",
     "output_type": "error",
     "traceback": [
      "\u001b[1;31m---------------------------------------------------------------------------\u001b[0m",
      "\u001b[1;31mValueError\u001b[0m                                Traceback (most recent call last)",
      "Cell \u001b[1;32mIn[134], line 15\u001b[0m\n\u001b[0;32m     13\u001b[0m \u001b[38;5;66;03m# Ensure X_train and X_test are not empty (no data)\u001b[39;00m\n\u001b[0;32m     14\u001b[0m \u001b[38;5;28;01mif\u001b[39;00m X_train\u001b[38;5;241m.\u001b[39mempty \u001b[38;5;129;01mor\u001b[39;00m X_test\u001b[38;5;241m.\u001b[39mempty:\n\u001b[1;32m---> 15\u001b[0m     \u001b[38;5;28;01mraise\u001b[39;00m \u001b[38;5;167;01mValueError\u001b[39;00m(\u001b[38;5;124m\"\u001b[39m\u001b[38;5;124mX_train or X_test is empty\u001b[39m\u001b[38;5;124m\"\u001b[39m)\n\u001b[0;32m     17\u001b[0m \u001b[38;5;66;03m# Convert to DataFrame if they are NumPy arrays\u001b[39;00m\n\u001b[0;32m     18\u001b[0m \u001b[38;5;28;01mif\u001b[39;00m \u001b[38;5;28misinstance\u001b[39m(X_train, np\u001b[38;5;241m.\u001b[39mndarray):\n",
      "\u001b[1;31mValueError\u001b[0m: X_train or X_test is empty"
     ]
    }
   ],
   "source": [
    "import pandas as pd\n",
    "import numpy as np\n",
    "from sklearn.impute import SimpleImputer\n",
    "\n",
    "# Check if X_train and X_test are initialized correctly\n",
    "print(f\"Shape of X_train: {X_train.shape}\")\n",
    "print(f\"Shape of X_test: {X_test.shape}\")\n",
    "\n",
    "# Ensure X_train and X_test are not empty\n",
    "if X_train is None or X_test is None:\n",
    "    raise ValueError(\"X_train or X_test is not properly initialized\")\n",
    "\n",
    "# Ensure X_train and X_test are not empty (no data)\n",
    "if X_train.empty or X_test.empty:\n",
    "    raise ValueError(\"X_train or X_test is empty\")\n",
    "\n",
    "# Convert to DataFrame if they are NumPy arrays\n",
    "if isinstance(X_train, np.ndarray):\n",
    "    X_train = pd.DataFrame(X_train)\n",
    "if isinstance(X_test, np.ndarray):\n",
    "    X_test = pd.DataFrame(X_test)\n",
    "\n",
    "# Align the columns between X_train and X_test (keeping only the common columns)\n",
    "X_train, X_test = X_train.align(X_test, join='inner', axis=1)\n",
    "\n",
    "# Ensure the columns are aligned properly\n",
    "print(f\"Aligned columns:\\nX_train columns: {X_train.columns}\\nX_test columns: {X_test.columns}\")\n",
    "\n",
    "# Apply SimpleImputer to handle missing values\n",
    "imputer = SimpleImputer(strategy='mean')\n",
    "\n",
    "# Impute the missing values (for both train and test)\n",
    "X_train = imputer.fit_transform(X_train)\n",
    "X_test = imputer.transform(X_test)\n",
    "\n",
    "# Now X_train and X_test have the same columns, and missing values are handled\n"
   ]
  },
  {
   "cell_type": "code",
   "execution_count": 92,
   "id": "4db1ff8e-1e82-403b-8ad4-3703cd01ad9e",
   "metadata": {},
   "outputs": [
    {
     "data": {
      "image/png": "[encoded data removed]",
      "text/plain": [
       "<Figure size 640x480 with 1 Axes>"
      ]
     },
     "metadata": {},
     "output_type": "display_data"
    }
   ],
   "source": [
    "import matplotlib.pyplot as plt\n",
    "\n",
    "# Plot R2 scores\n",
    "model_names = list(results.keys())\n",
    "r2_scores = [results[name]['R2'] for name in model_names]\n",
    "\n",
    "plt.bar(model_names, r2_scores)\n",
    "plt.xlabel('Model')\n",
    "plt.ylabel('R2 Score')\n",
    "plt.title('Model Comparison (R2 Score)')\n",
    "plt.xticks(rotation=45)\n",
    "plt.show()"
   ]
  },
  {
   "cell_type": "code",
   "execution_count": null,
   "id": "554bfa77-5ac8-4ea9-a73d-c1e814cd6274",
   "metadata": {},
   "outputs": [],
   "source": []
  }
 ],
 "metadata": {
  "kernelspec": {
   "display_name": "Python 3 (ipykernel)",
   "language": "python",
   "name": "python3"
  },
  "language_info": {
   "codemirror_mode": {
    "name": "ipython",
    "version": 3
   },
   "file_extension": ".py",
   "mimetype": "text/x-python",
   "name": "python",
   "nbconvert_exporter": "python",
   "pygments_lexer": "ipython3",
   "version": "3.12.7"
  }
 },
 "nbformat": 4,
 "nbformat_minor": 5
}
